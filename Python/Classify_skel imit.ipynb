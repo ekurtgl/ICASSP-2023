{
 "cells": [
  {
   "cell_type": "code",
   "execution_count": 1,
   "metadata": {},
   "outputs": [
    {
     "name": "stdout",
     "output_type": "stream",
     "text": [
      "1.12.0+cu102\n",
      "True\n",
      "10.2\n",
      "Location: /home/emre/anaconda3/envs/emre_venv/lib/python3.9/site-packages/torch/__init__.py\n"
     ]
    },
    {
     "name": "stderr",
     "output_type": "stream",
     "text": [
      "/home/emre/anaconda3/envs/emre_venv/lib/python3.9/site-packages/tqdm/auto.py:22: TqdmWarning: IProgress not found. Please update jupyter and ipywidgets. See https://ipywidgets.readthedocs.io/en/stable/user_install.html\n",
      "  from .autonotebook import tqdm as notebook_tqdm\n"
     ]
    }
   ],
   "source": [
    "import torch\n",
    "print(torch.__version__)\n",
    "print(torch.cuda.is_available())\n",
    "print(torch.version.cuda)\n",
    "print('Location:', torch.__file__) # /home/emre/.local/lib/python3.7/site-packages"
   ]
  },
  {
   "cell_type": "code",
   "execution_count": 2,
   "metadata": {},
   "outputs": [],
   "source": [
    "from typing import Union, Tuple\n",
    "from torch_geometric.typing import OptPairTensor, Adj, Size # Optional[Tensor], Union[Tensor, SparseTensor], Optional[Tuple[int, int]], all about data type\n",
    "\n",
    "from torch import Tensor\n",
    "from torch.nn import Linear\n",
    "import torch.nn.functional as F\n",
    "from torch_sparse import SparseTensor, matmul\n",
    "from torch_geometric.nn.conv import MessagePassing"
   ]
  },
  {
   "cell_type": "code",
   "execution_count": 3,
   "metadata": {},
   "outputs": [],
   "source": [
    "import warnings\n",
    "warnings.filterwarnings(\"ignore\")\n",
    "from joblib import Parallel, delayed\n",
    "\n",
    "from sklearn.preprocessing import StandardScaler, MinMaxScaler\n",
    "\n",
    "import torch.nn as nn\n",
    "import torch.nn.functional as F\n",
    "import torch_geometric.nn as gnn\n",
    "from torchsummary import summary\n",
    "import torchvision\n",
    "from torch_geometric.nn import MessagePassing, GCNConv\n",
    "from torch_geometric.data import Dataset, Data, DataLoader\n",
    "from torch_geometric.nn import global_mean_pool as gap, global_max_pool as gmp\n",
    "from torch_geometric.utils import softmax"
   ]
  },
  {
   "cell_type": "code",
   "execution_count": 4,
   "metadata": {},
   "outputs": [
    {
     "name": "stdout",
     "output_type": "stream",
     "text": [
      "Num GPU: 3\n",
      "Current device: 1\n",
      "Device name: TITAN V\n"
     ]
    }
   ],
   "source": [
    "import pickle\n",
    "from tqdm import tqdm\n",
    "import numpy as np\n",
    "import matplotlib.pyplot as plt\n",
    "from IPython.display import clear_output\n",
    "!CUDA_LAUNCH_BLOCKING=1\n",
    "torch.cuda.set_device(1)\n",
    "print('Num GPU:', torch.cuda.device_count())\n",
    "print('Current device:', torch.cuda.current_device())\n",
    "print('Device name:', torch.cuda.get_device_name())"
   ]
  },
  {
   "cell_type": "code",
   "execution_count": 5,
   "metadata": {},
   "outputs": [],
   "source": [
    "def load_pkl(filename):\n",
    "    with open(filename, 'rb') as input:\n",
    "        data = pickle.load(input)\n",
    "    return data"
   ]
  },
  {
   "cell_type": "code",
   "execution_count": 6,
   "metadata": {},
   "outputs": [
    {
     "name": "stdout",
     "output_type": "stream",
     "text": [
      "(1539, 42, 3, 150)\n",
      "(1539,)\n",
      "(1539, 150)\n"
     ]
    }
   ],
   "source": [
    "[train_files, train_skels, train_labels, train_mask,\n",
    "        test_files, test_skels, test_labels, test_mask] = load_pkl('../datasets/imit_ASL_10_skel.pkl')\n",
    "train_skels = np.swapaxes(train_skels, 1, 3) # use 2 samples for fast implementation testing\n",
    "test_skels = np.swapaxes(test_skels, 1, 3)\n",
    "train_labels = np.argmax(train_labels, -1)\n",
    "test_labels = np.argmax(test_labels, -1)\n",
    "\n",
    "# print(train_vids.shape)\n",
    "print(train_skels.shape)\n",
    "print(train_labels.shape)\n",
    "print(train_mask.shape)"
   ]
  },
  {
   "cell_type": "code",
   "execution_count": 7,
   "metadata": {},
   "outputs": [
    {
     "name": "stdout",
     "output_type": "stream",
     "text": [
      "(1539, 42, 450)\n"
     ]
    }
   ],
   "source": [
    "# for simplicity merge node features and time dims\n",
    "train_skels2 = train_skels.reshape(train_skels.shape[0], train_skels.shape[1],\n",
    "                                  train_skels.shape[2] * train_skels.shape[3])\n",
    "test_skels2 = test_skels.reshape(test_skels.shape[0], test_skels.shape[1],\n",
    "                                test_skels.shape[2] * test_skels.shape[3])\n",
    "print(train_skels2.shape)"
   ]
  },
  {
   "cell_type": "code",
   "execution_count": 8,
   "metadata": {},
   "outputs": [
    {
     "data": {
      "text/plain": [
       "array([0, 1, 2, 3, 4, 5, 6, 7, 8, 9])"
      ]
     },
     "execution_count": 8,
     "metadata": {},
     "output_type": "execute_result"
    }
   ],
   "source": [
    "np.unique(test_labels)"
   ]
  },
  {
   "cell_type": "markdown",
   "metadata": {},
   "source": [
    "## Dataloader"
   ]
  },
  {
   "cell_type": "code",
   "execution_count": 9,
   "metadata": {
    "scrolled": true
   },
   "outputs": [
    {
     "name": "stdout",
     "output_type": "stream",
     "text": [
      "edges: [(0, 1), (0, 5), (0, 17), (1, 2), (2, 3), (3, 4), (5, 6), (5, 9), (6, 7), (7, 8), (9, 10), (9, 13), (10, 11), (11, 12), (13, 14), (13, 17), (14, 15), (15, 16), (17, 18), (18, 19), (19, 20), (21, 22), (21, 26), (21, 38), (22, 23), (23, 24), (24, 25), (26, 27), (26, 30), (27, 28), (28, 29), (30, 31), (30, 34), (31, 32), (32, 33), (34, 35), (34, 38), (35, 36), (36, 37), (38, 39), (39, 40), (40, 41), (1, 0), (5, 0), (17, 0), (2, 1), (3, 2), (4, 3), (6, 5), (9, 5), (7, 6), (8, 7), (10, 9), (13, 9), (11, 10), (12, 11), (14, 13), (17, 13), (15, 14), (16, 15), (18, 17), (19, 18), (20, 19), (22, 21), (26, 21), (38, 21), (23, 22), (24, 23), (25, 24), (27, 26), (30, 26), (28, 27), (29, 28), (31, 30), (34, 30), (32, 31), (33, 32), (35, 34), (38, 34), (36, 35), (37, 36), (39, 38), (40, 39), (41, 40)]\n",
      "second hand: 27.957340392108662\n",
      "(42, 3)\n"
     ]
    },
    {
     "data": {
      "application/javascript": [
       "/* Put everything inside the global mpl namespace */\n",
       "/* global mpl */\n",
       "window.mpl = {};\n",
       "\n",
       "mpl.get_websocket_type = function () {\n",
       "    if (typeof WebSocket !== 'undefined') {\n",
       "        return WebSocket;\n",
       "    } else if (typeof MozWebSocket !== 'undefined') {\n",
       "        return MozWebSocket;\n",
       "    } else {\n",
       "        alert(\n",
       "            'Your browser does not have WebSocket support. ' +\n",
       "                'Please try Chrome, Safari or Firefox ≥ 6. ' +\n",
       "                'Firefox 4 and 5 are also supported but you ' +\n",
       "                'have to enable WebSockets in about:config.'\n",
       "        );\n",
       "    }\n",
       "};\n",
       "\n",
       "mpl.figure = function (figure_id, websocket, ondownload, parent_element) {\n",
       "    this.id = figure_id;\n",
       "\n",
       "    this.ws = websocket;\n",
       "\n",
       "    this.supports_binary = this.ws.binaryType !== undefined;\n",
       "\n",
       "    if (!this.supports_binary) {\n",
       "        var warnings = document.getElementById('mpl-warnings');\n",
       "        if (warnings) {\n",
       "            warnings.style.display = 'block';\n",
       "            warnings.textContent =\n",
       "                'This browser does not support binary websocket messages. ' +\n",
       "                'Performance may be slow.';\n",
       "        }\n",
       "    }\n",
       "\n",
       "    this.imageObj = new Image();\n",
       "\n",
       "    this.context = undefined;\n",
       "    this.message = undefined;\n",
       "    this.canvas = undefined;\n",
       "    this.rubberband_canvas = undefined;\n",
       "    this.rubberband_context = undefined;\n",
       "    this.format_dropdown = undefined;\n",
       "\n",
       "    this.image_mode = 'full';\n",
       "\n",
       "    this.root = document.createElement('div');\n",
       "    this.root.setAttribute('style', 'display: inline-block');\n",
       "    this._root_extra_style(this.root);\n",
       "\n",
       "    parent_element.appendChild(this.root);\n",
       "\n",
       "    this._init_header(this);\n",
       "    this._init_canvas(this);\n",
       "    this._init_toolbar(this);\n",
       "\n",
       "    var fig = this;\n",
       "\n",
       "    this.waiting = false;\n",
       "\n",
       "    this.ws.onopen = function () {\n",
       "        fig.send_message('supports_binary', { value: fig.supports_binary });\n",
       "        fig.send_message('send_image_mode', {});\n",
       "        if (fig.ratio !== 1) {\n",
       "            fig.send_message('set_device_pixel_ratio', {\n",
       "                device_pixel_ratio: fig.ratio,\n",
       "            });\n",
       "        }\n",
       "        fig.send_message('refresh', {});\n",
       "    };\n",
       "\n",
       "    this.imageObj.onload = function () {\n",
       "        if (fig.image_mode === 'full') {\n",
       "            // Full images could contain transparency (where diff images\n",
       "            // almost always do), so we need to clear the canvas so that\n",
       "            // there is no ghosting.\n",
       "            fig.context.clearRect(0, 0, fig.canvas.width, fig.canvas.height);\n",
       "        }\n",
       "        fig.context.drawImage(fig.imageObj, 0, 0);\n",
       "    };\n",
       "\n",
       "    this.imageObj.onunload = function () {\n",
       "        fig.ws.close();\n",
       "    };\n",
       "\n",
       "    this.ws.onmessage = this._make_on_message_function(this);\n",
       "\n",
       "    this.ondownload = ondownload;\n",
       "};\n",
       "\n",
       "mpl.figure.prototype._init_header = function () {\n",
       "    var titlebar = document.createElement('div');\n",
       "    titlebar.classList =\n",
       "        'ui-dialog-titlebar ui-widget-header ui-corner-all ui-helper-clearfix';\n",
       "    var titletext = document.createElement('div');\n",
       "    titletext.classList = 'ui-dialog-title';\n",
       "    titletext.setAttribute(\n",
       "        'style',\n",
       "        'width: 100%; text-align: center; padding: 3px;'\n",
       "    );\n",
       "    titlebar.appendChild(titletext);\n",
       "    this.root.appendChild(titlebar);\n",
       "    this.header = titletext;\n",
       "};\n",
       "\n",
       "mpl.figure.prototype._canvas_extra_style = function (_canvas_div) {};\n",
       "\n",
       "mpl.figure.prototype._root_extra_style = function (_canvas_div) {};\n",
       "\n",
       "mpl.figure.prototype._init_canvas = function () {\n",
       "    var fig = this;\n",
       "\n",
       "    var canvas_div = (this.canvas_div = document.createElement('div'));\n",
       "    canvas_div.setAttribute(\n",
       "        'style',\n",
       "        'border: 1px solid #ddd;' +\n",
       "            'box-sizing: content-box;' +\n",
       "            'clear: both;' +\n",
       "            'min-height: 1px;' +\n",
       "            'min-width: 1px;' +\n",
       "            'outline: 0;' +\n",
       "            'overflow: hidden;' +\n",
       "            'position: relative;' +\n",
       "            'resize: both;'\n",
       "    );\n",
       "\n",
       "    function on_keyboard_event_closure(name) {\n",
       "        return function (event) {\n",
       "            return fig.key_event(event, name);\n",
       "        };\n",
       "    }\n",
       "\n",
       "    canvas_div.addEventListener(\n",
       "        'keydown',\n",
       "        on_keyboard_event_closure('key_press')\n",
       "    );\n",
       "    canvas_div.addEventListener(\n",
       "        'keyup',\n",
       "        on_keyboard_event_closure('key_release')\n",
       "    );\n",
       "\n",
       "    this._canvas_extra_style(canvas_div);\n",
       "    this.root.appendChild(canvas_div);\n",
       "\n",
       "    var canvas = (this.canvas = document.createElement('canvas'));\n",
       "    canvas.classList.add('mpl-canvas');\n",
       "    canvas.setAttribute('style', 'box-sizing: content-box;');\n",
       "\n",
       "    this.context = canvas.getContext('2d');\n",
       "\n",
       "    var backingStore =\n",
       "        this.context.backingStorePixelRatio ||\n",
       "        this.context.webkitBackingStorePixelRatio ||\n",
       "        this.context.mozBackingStorePixelRatio ||\n",
       "        this.context.msBackingStorePixelRatio ||\n",
       "        this.context.oBackingStorePixelRatio ||\n",
       "        this.context.backingStorePixelRatio ||\n",
       "        1;\n",
       "\n",
       "    this.ratio = (window.devicePixelRatio || 1) / backingStore;\n",
       "\n",
       "    var rubberband_canvas = (this.rubberband_canvas = document.createElement(\n",
       "        'canvas'\n",
       "    ));\n",
       "    rubberband_canvas.setAttribute(\n",
       "        'style',\n",
       "        'box-sizing: content-box; position: absolute; left: 0; top: 0; z-index: 1;'\n",
       "    );\n",
       "\n",
       "    // Apply a ponyfill if ResizeObserver is not implemented by browser.\n",
       "    if (this.ResizeObserver === undefined) {\n",
       "        if (window.ResizeObserver !== undefined) {\n",
       "            this.ResizeObserver = window.ResizeObserver;\n",
       "        } else {\n",
       "            var obs = _JSXTOOLS_RESIZE_OBSERVER({});\n",
       "            this.ResizeObserver = obs.ResizeObserver;\n",
       "        }\n",
       "    }\n",
       "\n",
       "    this.resizeObserverInstance = new this.ResizeObserver(function (entries) {\n",
       "        var nentries = entries.length;\n",
       "        for (var i = 0; i < nentries; i++) {\n",
       "            var entry = entries[i];\n",
       "            var width, height;\n",
       "            if (entry.contentBoxSize) {\n",
       "                if (entry.contentBoxSize instanceof Array) {\n",
       "                    // Chrome 84 implements new version of spec.\n",
       "                    width = entry.contentBoxSize[0].inlineSize;\n",
       "                    height = entry.contentBoxSize[0].blockSize;\n",
       "                } else {\n",
       "                    // Firefox implements old version of spec.\n",
       "                    width = entry.contentBoxSize.inlineSize;\n",
       "                    height = entry.contentBoxSize.blockSize;\n",
       "                }\n",
       "            } else {\n",
       "                // Chrome <84 implements even older version of spec.\n",
       "                width = entry.contentRect.width;\n",
       "                height = entry.contentRect.height;\n",
       "            }\n",
       "\n",
       "            // Keep the size of the canvas and rubber band canvas in sync with\n",
       "            // the canvas container.\n",
       "            if (entry.devicePixelContentBoxSize) {\n",
       "                // Chrome 84 implements new version of spec.\n",
       "                canvas.setAttribute(\n",
       "                    'width',\n",
       "                    entry.devicePixelContentBoxSize[0].inlineSize\n",
       "                );\n",
       "                canvas.setAttribute(\n",
       "                    'height',\n",
       "                    entry.devicePixelContentBoxSize[0].blockSize\n",
       "                );\n",
       "            } else {\n",
       "                canvas.setAttribute('width', width * fig.ratio);\n",
       "                canvas.setAttribute('height', height * fig.ratio);\n",
       "            }\n",
       "            canvas.setAttribute(\n",
       "                'style',\n",
       "                'width: ' + width + 'px; height: ' + height + 'px;'\n",
       "            );\n",
       "\n",
       "            rubberband_canvas.setAttribute('width', width);\n",
       "            rubberband_canvas.setAttribute('height', height);\n",
       "\n",
       "            // And update the size in Python. We ignore the initial 0/0 size\n",
       "            // that occurs as the element is placed into the DOM, which should\n",
       "            // otherwise not happen due to the minimum size styling.\n",
       "            if (fig.ws.readyState == 1 && width != 0 && height != 0) {\n",
       "                fig.request_resize(width, height);\n",
       "            }\n",
       "        }\n",
       "    });\n",
       "    this.resizeObserverInstance.observe(canvas_div);\n",
       "\n",
       "    function on_mouse_event_closure(name) {\n",
       "        return function (event) {\n",
       "            return fig.mouse_event(event, name);\n",
       "        };\n",
       "    }\n",
       "\n",
       "    rubberband_canvas.addEventListener(\n",
       "        'mousedown',\n",
       "        on_mouse_event_closure('button_press')\n",
       "    );\n",
       "    rubberband_canvas.addEventListener(\n",
       "        'mouseup',\n",
       "        on_mouse_event_closure('button_release')\n",
       "    );\n",
       "    rubberband_canvas.addEventListener(\n",
       "        'dblclick',\n",
       "        on_mouse_event_closure('dblclick')\n",
       "    );\n",
       "    // Throttle sequential mouse events to 1 every 20ms.\n",
       "    rubberband_canvas.addEventListener(\n",
       "        'mousemove',\n",
       "        on_mouse_event_closure('motion_notify')\n",
       "    );\n",
       "\n",
       "    rubberband_canvas.addEventListener(\n",
       "        'mouseenter',\n",
       "        on_mouse_event_closure('figure_enter')\n",
       "    );\n",
       "    rubberband_canvas.addEventListener(\n",
       "        'mouseleave',\n",
       "        on_mouse_event_closure('figure_leave')\n",
       "    );\n",
       "\n",
       "    canvas_div.addEventListener('wheel', function (event) {\n",
       "        if (event.deltaY < 0) {\n",
       "            event.step = 1;\n",
       "        } else {\n",
       "            event.step = -1;\n",
       "        }\n",
       "        on_mouse_event_closure('scroll')(event);\n",
       "    });\n",
       "\n",
       "    canvas_div.appendChild(canvas);\n",
       "    canvas_div.appendChild(rubberband_canvas);\n",
       "\n",
       "    this.rubberband_context = rubberband_canvas.getContext('2d');\n",
       "    this.rubberband_context.strokeStyle = '#000000';\n",
       "\n",
       "    this._resize_canvas = function (width, height, forward) {\n",
       "        if (forward) {\n",
       "            canvas_div.style.width = width + 'px';\n",
       "            canvas_div.style.height = height + 'px';\n",
       "        }\n",
       "    };\n",
       "\n",
       "    // Disable right mouse context menu.\n",
       "    this.rubberband_canvas.addEventListener('contextmenu', function (_e) {\n",
       "        event.preventDefault();\n",
       "        return false;\n",
       "    });\n",
       "\n",
       "    function set_focus() {\n",
       "        canvas.focus();\n",
       "        canvas_div.focus();\n",
       "    }\n",
       "\n",
       "    window.setTimeout(set_focus, 100);\n",
       "};\n",
       "\n",
       "mpl.figure.prototype._init_toolbar = function () {\n",
       "    var fig = this;\n",
       "\n",
       "    var toolbar = document.createElement('div');\n",
       "    toolbar.classList = 'mpl-toolbar';\n",
       "    this.root.appendChild(toolbar);\n",
       "\n",
       "    function on_click_closure(name) {\n",
       "        return function (_event) {\n",
       "            return fig.toolbar_button_onclick(name);\n",
       "        };\n",
       "    }\n",
       "\n",
       "    function on_mouseover_closure(tooltip) {\n",
       "        return function (event) {\n",
       "            if (!event.currentTarget.disabled) {\n",
       "                return fig.toolbar_button_onmouseover(tooltip);\n",
       "            }\n",
       "        };\n",
       "    }\n",
       "\n",
       "    fig.buttons = {};\n",
       "    var buttonGroup = document.createElement('div');\n",
       "    buttonGroup.classList = 'mpl-button-group';\n",
       "    for (var toolbar_ind in mpl.toolbar_items) {\n",
       "        var name = mpl.toolbar_items[toolbar_ind][0];\n",
       "        var tooltip = mpl.toolbar_items[toolbar_ind][1];\n",
       "        var image = mpl.toolbar_items[toolbar_ind][2];\n",
       "        var method_name = mpl.toolbar_items[toolbar_ind][3];\n",
       "\n",
       "        if (!name) {\n",
       "            /* Instead of a spacer, we start a new button group. */\n",
       "            if (buttonGroup.hasChildNodes()) {\n",
       "                toolbar.appendChild(buttonGroup);\n",
       "            }\n",
       "            buttonGroup = document.createElement('div');\n",
       "            buttonGroup.classList = 'mpl-button-group';\n",
       "            continue;\n",
       "        }\n",
       "\n",
       "        var button = (fig.buttons[name] = document.createElement('button'));\n",
       "        button.classList = 'mpl-widget';\n",
       "        button.setAttribute('role', 'button');\n",
       "        button.setAttribute('aria-disabled', 'false');\n",
       "        button.addEventListener('click', on_click_closure(method_name));\n",
       "        button.addEventListener('mouseover', on_mouseover_closure(tooltip));\n",
       "\n",
       "        var icon_img = document.createElement('img');\n",
       "        icon_img.src = '_images/' + image + '.png';\n",
       "        icon_img.srcset = '_images/' + image + '_large.png 2x';\n",
       "        icon_img.alt = tooltip;\n",
       "        button.appendChild(icon_img);\n",
       "\n",
       "        buttonGroup.appendChild(button);\n",
       "    }\n",
       "\n",
       "    if (buttonGroup.hasChildNodes()) {\n",
       "        toolbar.appendChild(buttonGroup);\n",
       "    }\n",
       "\n",
       "    var fmt_picker = document.createElement('select');\n",
       "    fmt_picker.classList = 'mpl-widget';\n",
       "    toolbar.appendChild(fmt_picker);\n",
       "    this.format_dropdown = fmt_picker;\n",
       "\n",
       "    for (var ind in mpl.extensions) {\n",
       "        var fmt = mpl.extensions[ind];\n",
       "        var option = document.createElement('option');\n",
       "        option.selected = fmt === mpl.default_extension;\n",
       "        option.innerHTML = fmt;\n",
       "        fmt_picker.appendChild(option);\n",
       "    }\n",
       "\n",
       "    var status_bar = document.createElement('span');\n",
       "    status_bar.classList = 'mpl-message';\n",
       "    toolbar.appendChild(status_bar);\n",
       "    this.message = status_bar;\n",
       "};\n",
       "\n",
       "mpl.figure.prototype.request_resize = function (x_pixels, y_pixels) {\n",
       "    // Request matplotlib to resize the figure. Matplotlib will then trigger a resize in the client,\n",
       "    // which will in turn request a refresh of the image.\n",
       "    this.send_message('resize', { width: x_pixels, height: y_pixels });\n",
       "};\n",
       "\n",
       "mpl.figure.prototype.send_message = function (type, properties) {\n",
       "    properties['type'] = type;\n",
       "    properties['figure_id'] = this.id;\n",
       "    this.ws.send(JSON.stringify(properties));\n",
       "};\n",
       "\n",
       "mpl.figure.prototype.send_draw_message = function () {\n",
       "    if (!this.waiting) {\n",
       "        this.waiting = true;\n",
       "        this.ws.send(JSON.stringify({ type: 'draw', figure_id: this.id }));\n",
       "    }\n",
       "};\n",
       "\n",
       "mpl.figure.prototype.handle_save = function (fig, _msg) {\n",
       "    var format_dropdown = fig.format_dropdown;\n",
       "    var format = format_dropdown.options[format_dropdown.selectedIndex].value;\n",
       "    fig.ondownload(fig, format);\n",
       "};\n",
       "\n",
       "mpl.figure.prototype.handle_resize = function (fig, msg) {\n",
       "    var size = msg['size'];\n",
       "    if (size[0] !== fig.canvas.width || size[1] !== fig.canvas.height) {\n",
       "        fig._resize_canvas(size[0], size[1], msg['forward']);\n",
       "        fig.send_message('refresh', {});\n",
       "    }\n",
       "};\n",
       "\n",
       "mpl.figure.prototype.handle_rubberband = function (fig, msg) {\n",
       "    var x0 = msg['x0'] / fig.ratio;\n",
       "    var y0 = (fig.canvas.height - msg['y0']) / fig.ratio;\n",
       "    var x1 = msg['x1'] / fig.ratio;\n",
       "    var y1 = (fig.canvas.height - msg['y1']) / fig.ratio;\n",
       "    x0 = Math.floor(x0) + 0.5;\n",
       "    y0 = Math.floor(y0) + 0.5;\n",
       "    x1 = Math.floor(x1) + 0.5;\n",
       "    y1 = Math.floor(y1) + 0.5;\n",
       "    var min_x = Math.min(x0, x1);\n",
       "    var min_y = Math.min(y0, y1);\n",
       "    var width = Math.abs(x1 - x0);\n",
       "    var height = Math.abs(y1 - y0);\n",
       "\n",
       "    fig.rubberband_context.clearRect(\n",
       "        0,\n",
       "        0,\n",
       "        fig.canvas.width / fig.ratio,\n",
       "        fig.canvas.height / fig.ratio\n",
       "    );\n",
       "\n",
       "    fig.rubberband_context.strokeRect(min_x, min_y, width, height);\n",
       "};\n",
       "\n",
       "mpl.figure.prototype.handle_figure_label = function (fig, msg) {\n",
       "    // Updates the figure title.\n",
       "    fig.header.textContent = msg['label'];\n",
       "};\n",
       "\n",
       "mpl.figure.prototype.handle_cursor = function (fig, msg) {\n",
       "    fig.rubberband_canvas.style.cursor = msg['cursor'];\n",
       "};\n",
       "\n",
       "mpl.figure.prototype.handle_message = function (fig, msg) {\n",
       "    fig.message.textContent = msg['message'];\n",
       "};\n",
       "\n",
       "mpl.figure.prototype.handle_draw = function (fig, _msg) {\n",
       "    // Request the server to send over a new figure.\n",
       "    fig.send_draw_message();\n",
       "};\n",
       "\n",
       "mpl.figure.prototype.handle_image_mode = function (fig, msg) {\n",
       "    fig.image_mode = msg['mode'];\n",
       "};\n",
       "\n",
       "mpl.figure.prototype.handle_history_buttons = function (fig, msg) {\n",
       "    for (var key in msg) {\n",
       "        if (!(key in fig.buttons)) {\n",
       "            continue;\n",
       "        }\n",
       "        fig.buttons[key].disabled = !msg[key];\n",
       "        fig.buttons[key].setAttribute('aria-disabled', !msg[key]);\n",
       "    }\n",
       "};\n",
       "\n",
       "mpl.figure.prototype.handle_navigate_mode = function (fig, msg) {\n",
       "    if (msg['mode'] === 'PAN') {\n",
       "        fig.buttons['Pan'].classList.add('active');\n",
       "        fig.buttons['Zoom'].classList.remove('active');\n",
       "    } else if (msg['mode'] === 'ZOOM') {\n",
       "        fig.buttons['Pan'].classList.remove('active');\n",
       "        fig.buttons['Zoom'].classList.add('active');\n",
       "    } else {\n",
       "        fig.buttons['Pan'].classList.remove('active');\n",
       "        fig.buttons['Zoom'].classList.remove('active');\n",
       "    }\n",
       "};\n",
       "\n",
       "mpl.figure.prototype.updated_canvas_event = function () {\n",
       "    // Called whenever the canvas gets updated.\n",
       "    this.send_message('ack', {});\n",
       "};\n",
       "\n",
       "// A function to construct a web socket function for onmessage handling.\n",
       "// Called in the figure constructor.\n",
       "mpl.figure.prototype._make_on_message_function = function (fig) {\n",
       "    return function socket_on_message(evt) {\n",
       "        if (evt.data instanceof Blob) {\n",
       "            var img = evt.data;\n",
       "            if (img.type !== 'image/png') {\n",
       "                /* FIXME: We get \"Resource interpreted as Image but\n",
       "                 * transferred with MIME type text/plain:\" errors on\n",
       "                 * Chrome.  But how to set the MIME type?  It doesn't seem\n",
       "                 * to be part of the websocket stream */\n",
       "                img.type = 'image/png';\n",
       "            }\n",
       "\n",
       "            /* Free the memory for the previous frames */\n",
       "            if (fig.imageObj.src) {\n",
       "                (window.URL || window.webkitURL).revokeObjectURL(\n",
       "                    fig.imageObj.src\n",
       "                );\n",
       "            }\n",
       "\n",
       "            fig.imageObj.src = (window.URL || window.webkitURL).createObjectURL(\n",
       "                img\n",
       "            );\n",
       "            fig.updated_canvas_event();\n",
       "            fig.waiting = false;\n",
       "            return;\n",
       "        } else if (\n",
       "            typeof evt.data === 'string' &&\n",
       "            evt.data.slice(0, 21) === 'data:image/png;base64'\n",
       "        ) {\n",
       "            fig.imageObj.src = evt.data;\n",
       "            fig.updated_canvas_event();\n",
       "            fig.waiting = false;\n",
       "            return;\n",
       "        }\n",
       "\n",
       "        var msg = JSON.parse(evt.data);\n",
       "        var msg_type = msg['type'];\n",
       "\n",
       "        // Call the  \"handle_{type}\" callback, which takes\n",
       "        // the figure and JSON message as its only arguments.\n",
       "        try {\n",
       "            var callback = fig['handle_' + msg_type];\n",
       "        } catch (e) {\n",
       "            console.log(\n",
       "                \"No handler for the '\" + msg_type + \"' message type: \",\n",
       "                msg\n",
       "            );\n",
       "            return;\n",
       "        }\n",
       "\n",
       "        if (callback) {\n",
       "            try {\n",
       "                // console.log(\"Handling '\" + msg_type + \"' message: \", msg);\n",
       "                callback(fig, msg);\n",
       "            } catch (e) {\n",
       "                console.log(\n",
       "                    \"Exception inside the 'handler_\" + msg_type + \"' callback:\",\n",
       "                    e,\n",
       "                    e.stack,\n",
       "                    msg\n",
       "                );\n",
       "            }\n",
       "        }\n",
       "    };\n",
       "};\n",
       "\n",
       "// from https://stackoverflow.com/questions/1114465/getting-mouse-location-in-canvas\n",
       "mpl.findpos = function (e) {\n",
       "    //this section is from http://www.quirksmode.org/js/events_properties.html\n",
       "    var targ;\n",
       "    if (!e) {\n",
       "        e = window.event;\n",
       "    }\n",
       "    if (e.target) {\n",
       "        targ = e.target;\n",
       "    } else if (e.srcElement) {\n",
       "        targ = e.srcElement;\n",
       "    }\n",
       "    if (targ.nodeType === 3) {\n",
       "        // defeat Safari bug\n",
       "        targ = targ.parentNode;\n",
       "    }\n",
       "\n",
       "    // pageX,Y are the mouse positions relative to the document\n",
       "    var boundingRect = targ.getBoundingClientRect();\n",
       "    var x = e.pageX - (boundingRect.left + document.body.scrollLeft);\n",
       "    var y = e.pageY - (boundingRect.top + document.body.scrollTop);\n",
       "\n",
       "    return { x: x, y: y };\n",
       "};\n",
       "\n",
       "/*\n",
       " * return a copy of an object with only non-object keys\n",
       " * we need this to avoid circular references\n",
       " * https://stackoverflow.com/a/24161582/3208463\n",
       " */\n",
       "function simpleKeys(original) {\n",
       "    return Object.keys(original).reduce(function (obj, key) {\n",
       "        if (typeof original[key] !== 'object') {\n",
       "            obj[key] = original[key];\n",
       "        }\n",
       "        return obj;\n",
       "    }, {});\n",
       "}\n",
       "\n",
       "mpl.figure.prototype.mouse_event = function (event, name) {\n",
       "    var canvas_pos = mpl.findpos(event);\n",
       "\n",
       "    if (name === 'button_press') {\n",
       "        this.canvas.focus();\n",
       "        this.canvas_div.focus();\n",
       "    }\n",
       "\n",
       "    var x = canvas_pos.x * this.ratio;\n",
       "    var y = canvas_pos.y * this.ratio;\n",
       "\n",
       "    this.send_message(name, {\n",
       "        x: x,\n",
       "        y: y,\n",
       "        button: event.button,\n",
       "        step: event.step,\n",
       "        guiEvent: simpleKeys(event),\n",
       "    });\n",
       "\n",
       "    /* This prevents the web browser from automatically changing to\n",
       "     * the text insertion cursor when the button is pressed.  We want\n",
       "     * to control all of the cursor setting manually through the\n",
       "     * 'cursor' event from matplotlib */\n",
       "    event.preventDefault();\n",
       "    return false;\n",
       "};\n",
       "\n",
       "mpl.figure.prototype._key_event_extra = function (_event, _name) {\n",
       "    // Handle any extra behaviour associated with a key event\n",
       "};\n",
       "\n",
       "mpl.figure.prototype.key_event = function (event, name) {\n",
       "    // Prevent repeat events\n",
       "    if (name === 'key_press') {\n",
       "        if (event.key === this._key) {\n",
       "            return;\n",
       "        } else {\n",
       "            this._key = event.key;\n",
       "        }\n",
       "    }\n",
       "    if (name === 'key_release') {\n",
       "        this._key = null;\n",
       "    }\n",
       "\n",
       "    var value = '';\n",
       "    if (event.ctrlKey && event.key !== 'Control') {\n",
       "        value += 'ctrl+';\n",
       "    }\n",
       "    else if (event.altKey && event.key !== 'Alt') {\n",
       "        value += 'alt+';\n",
       "    }\n",
       "    else if (event.shiftKey && event.key !== 'Shift') {\n",
       "        value += 'shift+';\n",
       "    }\n",
       "\n",
       "    value += 'k' + event.key;\n",
       "\n",
       "    this._key_event_extra(event, name);\n",
       "\n",
       "    this.send_message(name, { key: value, guiEvent: simpleKeys(event) });\n",
       "    return false;\n",
       "};\n",
       "\n",
       "mpl.figure.prototype.toolbar_button_onclick = function (name) {\n",
       "    if (name === 'download') {\n",
       "        this.handle_save(this, null);\n",
       "    } else {\n",
       "        this.send_message('toolbar_button', { name: name });\n",
       "    }\n",
       "};\n",
       "\n",
       "mpl.figure.prototype.toolbar_button_onmouseover = function (tooltip) {\n",
       "    this.message.textContent = tooltip;\n",
       "};\n",
       "\n",
       "///////////////// REMAINING CONTENT GENERATED BY embed_js.py /////////////////\n",
       "// prettier-ignore\n",
       "var _JSXTOOLS_RESIZE_OBSERVER=function(A){var t,i=new WeakMap,n=new WeakMap,a=new WeakMap,r=new WeakMap,o=new Set;function s(e){if(!(this instanceof s))throw new TypeError(\"Constructor requires 'new' operator\");i.set(this,e)}function h(){throw new TypeError(\"Function is not a constructor\")}function c(e,t,i,n){e=0 in arguments?Number(arguments[0]):0,t=1 in arguments?Number(arguments[1]):0,i=2 in arguments?Number(arguments[2]):0,n=3 in arguments?Number(arguments[3]):0,this.right=(this.x=this.left=e)+(this.width=i),this.bottom=(this.y=this.top=t)+(this.height=n),Object.freeze(this)}function d(){t=requestAnimationFrame(d);var s=new WeakMap,p=new Set;o.forEach((function(t){r.get(t).forEach((function(i){var r=t instanceof window.SVGElement,o=a.get(t),d=r?0:parseFloat(o.paddingTop),f=r?0:parseFloat(o.paddingRight),l=r?0:parseFloat(o.paddingBottom),u=r?0:parseFloat(o.paddingLeft),g=r?0:parseFloat(o.borderTopWidth),m=r?0:parseFloat(o.borderRightWidth),w=r?0:parseFloat(o.borderBottomWidth),b=u+f,F=d+l,v=(r?0:parseFloat(o.borderLeftWidth))+m,W=g+w,y=r?0:t.offsetHeight-W-t.clientHeight,E=r?0:t.offsetWidth-v-t.clientWidth,R=b+v,z=F+W,M=r?t.width:parseFloat(o.width)-R-E,O=r?t.height:parseFloat(o.height)-z-y;if(n.has(t)){var k=n.get(t);if(k[0]===M&&k[1]===O)return}n.set(t,[M,O]);var S=Object.create(h.prototype);S.target=t,S.contentRect=new c(u,d,M,O),s.has(i)||(s.set(i,[]),p.add(i)),s.get(i).push(S)}))})),p.forEach((function(e){i.get(e).call(e,s.get(e),e)}))}return s.prototype.observe=function(i){if(i instanceof window.Element){r.has(i)||(r.set(i,new Set),o.add(i),a.set(i,window.getComputedStyle(i)));var n=r.get(i);n.has(this)||n.add(this),cancelAnimationFrame(t),t=requestAnimationFrame(d)}},s.prototype.unobserve=function(i){if(i instanceof window.Element&&r.has(i)){var n=r.get(i);n.has(this)&&(n.delete(this),n.size||(r.delete(i),o.delete(i))),n.size||r.delete(i),o.size||cancelAnimationFrame(t)}},A.DOMRectReadOnly=c,A.ResizeObserver=s,A.ResizeObserverEntry=h,A}; // eslint-disable-line\n",
       "mpl.toolbar_items = [[\"Home\", \"Reset original view\", \"fa fa-home\", \"home\"], [\"Back\", \"Back to previous view\", \"fa fa-arrow-left\", \"back\"], [\"Forward\", \"Forward to next view\", \"fa fa-arrow-right\", \"forward\"], [\"\", \"\", \"\", \"\"], [\"Pan\", \"Left button pans, Right button zooms\\nx/y fixes axis, CTRL fixes aspect\", \"fa fa-arrows\", \"pan\"], [\"Zoom\", \"Zoom to rectangle\\nx/y fixes axis\", \"fa fa-square-o\", \"zoom\"], [\"\", \"\", \"\", \"\"], [\"Download\", \"Download plot\", \"fa fa-floppy-o\", \"download\"]];\n",
       "\n",
       "mpl.extensions = [\"eps\", \"jpeg\", \"pgf\", \"pdf\", \"png\", \"ps\", \"raw\", \"svg\", \"tif\", \"webp\"];\n",
       "\n",
       "mpl.default_extension = \"png\";/* global mpl */\n",
       "\n",
       "var comm_websocket_adapter = function (comm) {\n",
       "    // Create a \"websocket\"-like object which calls the given IPython comm\n",
       "    // object with the appropriate methods. Currently this is a non binary\n",
       "    // socket, so there is still some room for performance tuning.\n",
       "    var ws = {};\n",
       "\n",
       "    ws.binaryType = comm.kernel.ws.binaryType;\n",
       "    ws.readyState = comm.kernel.ws.readyState;\n",
       "    function updateReadyState(_event) {\n",
       "        if (comm.kernel.ws) {\n",
       "            ws.readyState = comm.kernel.ws.readyState;\n",
       "        } else {\n",
       "            ws.readyState = 3; // Closed state.\n",
       "        }\n",
       "    }\n",
       "    comm.kernel.ws.addEventListener('open', updateReadyState);\n",
       "    comm.kernel.ws.addEventListener('close', updateReadyState);\n",
       "    comm.kernel.ws.addEventListener('error', updateReadyState);\n",
       "\n",
       "    ws.close = function () {\n",
       "        comm.close();\n",
       "    };\n",
       "    ws.send = function (m) {\n",
       "        //console.log('sending', m);\n",
       "        comm.send(m);\n",
       "    };\n",
       "    // Register the callback with on_msg.\n",
       "    comm.on_msg(function (msg) {\n",
       "        //console.log('receiving', msg['content']['data'], msg);\n",
       "        var data = msg['content']['data'];\n",
       "        if (data['blob'] !== undefined) {\n",
       "            data = {\n",
       "                data: new Blob(msg['buffers'], { type: data['blob'] }),\n",
       "            };\n",
       "        }\n",
       "        // Pass the mpl event to the overridden (by mpl) onmessage function.\n",
       "        ws.onmessage(data);\n",
       "    });\n",
       "    return ws;\n",
       "};\n",
       "\n",
       "mpl.mpl_figure_comm = function (comm, msg) {\n",
       "    // This is the function which gets called when the mpl process\n",
       "    // starts-up an IPython Comm through the \"matplotlib\" channel.\n",
       "\n",
       "    var id = msg.content.data.id;\n",
       "    // Get hold of the div created by the display call when the Comm\n",
       "    // socket was opened in Python.\n",
       "    var element = document.getElementById(id);\n",
       "    var ws_proxy = comm_websocket_adapter(comm);\n",
       "\n",
       "    function ondownload(figure, _format) {\n",
       "        window.open(figure.canvas.toDataURL());\n",
       "    }\n",
       "\n",
       "    var fig = new mpl.figure(id, ws_proxy, ondownload, element);\n",
       "\n",
       "    // Call onopen now - mpl needs it, as it is assuming we've passed it a real\n",
       "    // web socket which is closed, not our websocket->open comm proxy.\n",
       "    ws_proxy.onopen();\n",
       "\n",
       "    fig.parent_element = element;\n",
       "    fig.cell_info = mpl.find_output_cell(\"<div id='\" + id + \"'></div>\");\n",
       "    if (!fig.cell_info) {\n",
       "        console.error('Failed to find cell for figure', id, fig);\n",
       "        return;\n",
       "    }\n",
       "    fig.cell_info[0].output_area.element.on(\n",
       "        'cleared',\n",
       "        { fig: fig },\n",
       "        fig._remove_fig_handler\n",
       "    );\n",
       "};\n",
       "\n",
       "mpl.figure.prototype.handle_close = function (fig, msg) {\n",
       "    var width = fig.canvas.width / fig.ratio;\n",
       "    fig.cell_info[0].output_area.element.off(\n",
       "        'cleared',\n",
       "        fig._remove_fig_handler\n",
       "    );\n",
       "    fig.resizeObserverInstance.unobserve(fig.canvas_div);\n",
       "\n",
       "    // Update the output cell to use the data from the current canvas.\n",
       "    fig.push_to_output();\n",
       "    var dataURL = fig.canvas.toDataURL();\n",
       "    // Re-enable the keyboard manager in IPython - without this line, in FF,\n",
       "    // the notebook keyboard shortcuts fail.\n",
       "    IPython.keyboard_manager.enable();\n",
       "    fig.parent_element.innerHTML =\n",
       "        '<img src=\"' + dataURL + '\" width=\"' + width + '\">';\n",
       "    fig.close_ws(fig, msg);\n",
       "};\n",
       "\n",
       "mpl.figure.prototype.close_ws = function (fig, msg) {\n",
       "    fig.send_message('closing', msg);\n",
       "    // fig.ws.close()\n",
       "};\n",
       "\n",
       "mpl.figure.prototype.push_to_output = function (_remove_interactive) {\n",
       "    // Turn the data on the canvas into data in the output cell.\n",
       "    var width = this.canvas.width / this.ratio;\n",
       "    var dataURL = this.canvas.toDataURL();\n",
       "    this.cell_info[1]['text/html'] =\n",
       "        '<img src=\"' + dataURL + '\" width=\"' + width + '\">';\n",
       "};\n",
       "\n",
       "mpl.figure.prototype.updated_canvas_event = function () {\n",
       "    // Tell IPython that the notebook contents must change.\n",
       "    IPython.notebook.set_dirty(true);\n",
       "    this.send_message('ack', {});\n",
       "    var fig = this;\n",
       "    // Wait a second, then push the new image to the DOM so\n",
       "    // that it is saved nicely (might be nice to debounce this).\n",
       "    setTimeout(function () {\n",
       "        fig.push_to_output();\n",
       "    }, 1000);\n",
       "};\n",
       "\n",
       "mpl.figure.prototype._init_toolbar = function () {\n",
       "    var fig = this;\n",
       "\n",
       "    var toolbar = document.createElement('div');\n",
       "    toolbar.classList = 'btn-toolbar';\n",
       "    this.root.appendChild(toolbar);\n",
       "\n",
       "    function on_click_closure(name) {\n",
       "        return function (_event) {\n",
       "            return fig.toolbar_button_onclick(name);\n",
       "        };\n",
       "    }\n",
       "\n",
       "    function on_mouseover_closure(tooltip) {\n",
       "        return function (event) {\n",
       "            if (!event.currentTarget.disabled) {\n",
       "                return fig.toolbar_button_onmouseover(tooltip);\n",
       "            }\n",
       "        };\n",
       "    }\n",
       "\n",
       "    fig.buttons = {};\n",
       "    var buttonGroup = document.createElement('div');\n",
       "    buttonGroup.classList = 'btn-group';\n",
       "    var button;\n",
       "    for (var toolbar_ind in mpl.toolbar_items) {\n",
       "        var name = mpl.toolbar_items[toolbar_ind][0];\n",
       "        var tooltip = mpl.toolbar_items[toolbar_ind][1];\n",
       "        var image = mpl.toolbar_items[toolbar_ind][2];\n",
       "        var method_name = mpl.toolbar_items[toolbar_ind][3];\n",
       "\n",
       "        if (!name) {\n",
       "            /* Instead of a spacer, we start a new button group. */\n",
       "            if (buttonGroup.hasChildNodes()) {\n",
       "                toolbar.appendChild(buttonGroup);\n",
       "            }\n",
       "            buttonGroup = document.createElement('div');\n",
       "            buttonGroup.classList = 'btn-group';\n",
       "            continue;\n",
       "        }\n",
       "\n",
       "        button = fig.buttons[name] = document.createElement('button');\n",
       "        button.classList = 'btn btn-default';\n",
       "        button.href = '#';\n",
       "        button.title = name;\n",
       "        button.innerHTML = '<i class=\"fa ' + image + ' fa-lg\"></i>';\n",
       "        button.addEventListener('click', on_click_closure(method_name));\n",
       "        button.addEventListener('mouseover', on_mouseover_closure(tooltip));\n",
       "        buttonGroup.appendChild(button);\n",
       "    }\n",
       "\n",
       "    if (buttonGroup.hasChildNodes()) {\n",
       "        toolbar.appendChild(buttonGroup);\n",
       "    }\n",
       "\n",
       "    // Add the status bar.\n",
       "    var status_bar = document.createElement('span');\n",
       "    status_bar.classList = 'mpl-message pull-right';\n",
       "    toolbar.appendChild(status_bar);\n",
       "    this.message = status_bar;\n",
       "\n",
       "    // Add the close button to the window.\n",
       "    var buttongrp = document.createElement('div');\n",
       "    buttongrp.classList = 'btn-group inline pull-right';\n",
       "    button = document.createElement('button');\n",
       "    button.classList = 'btn btn-mini btn-primary';\n",
       "    button.href = '#';\n",
       "    button.title = 'Stop Interaction';\n",
       "    button.innerHTML = '<i class=\"fa fa-power-off icon-remove icon-large\"></i>';\n",
       "    button.addEventListener('click', function (_evt) {\n",
       "        fig.handle_close(fig, {});\n",
       "    });\n",
       "    button.addEventListener(\n",
       "        'mouseover',\n",
       "        on_mouseover_closure('Stop Interaction')\n",
       "    );\n",
       "    buttongrp.appendChild(button);\n",
       "    var titlebar = this.root.querySelector('.ui-dialog-titlebar');\n",
       "    titlebar.insertBefore(buttongrp, titlebar.firstChild);\n",
       "};\n",
       "\n",
       "mpl.figure.prototype._remove_fig_handler = function (event) {\n",
       "    var fig = event.data.fig;\n",
       "    if (event.target !== this) {\n",
       "        // Ignore bubbled events from children.\n",
       "        return;\n",
       "    }\n",
       "    fig.close_ws(fig, {});\n",
       "};\n",
       "\n",
       "mpl.figure.prototype._root_extra_style = function (el) {\n",
       "    el.style.boxSizing = 'content-box'; // override notebook setting of border-box.\n",
       "};\n",
       "\n",
       "mpl.figure.prototype._canvas_extra_style = function (el) {\n",
       "    // this is important to make the div 'focusable\n",
       "    el.setAttribute('tabindex', 0);\n",
       "    // reach out to IPython and tell the keyboard manager to turn it's self\n",
       "    // off when our div gets focus\n",
       "\n",
       "    // location in version 3\n",
       "    if (IPython.notebook.keyboard_manager) {\n",
       "        IPython.notebook.keyboard_manager.register_events(el);\n",
       "    } else {\n",
       "        // location in version 2\n",
       "        IPython.keyboard_manager.register_events(el);\n",
       "    }\n",
       "};\n",
       "\n",
       "mpl.figure.prototype._key_event_extra = function (event, _name) {\n",
       "    // Check for shift+enter\n",
       "    if (event.shiftKey && event.which === 13) {\n",
       "        this.canvas_div.blur();\n",
       "        // select the cell after this one\n",
       "        var index = IPython.notebook.find_cell_index(this.cell_info[0]);\n",
       "        IPython.notebook.select(index + 1);\n",
       "    }\n",
       "};\n",
       "\n",
       "mpl.figure.prototype.handle_save = function (fig, _msg) {\n",
       "    fig.ondownload(fig, null);\n",
       "};\n",
       "\n",
       "mpl.find_output_cell = function (html_output) {\n",
       "    // Return the cell and output element which can be found *uniquely* in the notebook.\n",
       "    // Note - this is a bit hacky, but it is done because the \"notebook_saving.Notebook\"\n",
       "    // IPython event is triggered only after the cells have been serialised, which for\n",
       "    // our purposes (turning an active figure into a static one), is too late.\n",
       "    var cells = IPython.notebook.get_cells();\n",
       "    var ncells = cells.length;\n",
       "    for (var i = 0; i < ncells; i++) {\n",
       "        var cell = cells[i];\n",
       "        if (cell.cell_type === 'code') {\n",
       "            for (var j = 0; j < cell.output_area.outputs.length; j++) {\n",
       "                var data = cell.output_area.outputs[j];\n",
       "                if (data.data) {\n",
       "                    // IPython >= 3 moved mimebundle to data attribute of output\n",
       "                    data = data.data;\n",
       "                }\n",
       "                if (data['text/html'] === html_output) {\n",
       "                    return [cell, data, j];\n",
       "                }\n",
       "            }\n",
       "        }\n",
       "    }\n",
       "};\n",
       "\n",
       "// Register the function which deals with the matplotlib target/channel.\n",
       "// The kernel may be null if the page has been refreshed.\n",
       "if (IPython.notebook.kernel !== null) {\n",
       "    IPython.notebook.kernel.comm_manager.register_target(\n",
       "        'matplotlib',\n",
       "        mpl.mpl_figure_comm\n",
       "    );\n",
       "}\n"
      ],
      "text/plain": [
       "<IPython.core.display.Javascript object>"
      ]
     },
     "metadata": {},
     "output_type": "display_data"
    },
    {
     "data": {
      "text/html": [
       "<img src=\"data:image/png;base64,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\" width=\"1000\">"
      ],
      "text/plain": [
       "<IPython.core.display.HTML object>"
      ]
     },
     "metadata": {},
     "output_type": "display_data"
    }
   ],
   "source": [
    "from mpl_toolkits import mplot3d\n",
    "%matplotlib notebook\n",
    "# %matplotlib inline\n",
    "sample_idx = [1, 30]\n",
    "edges = [(0, 1),\n",
    "              (0, 5),\n",
    "              (0, 17),\n",
    "              (1, 2),\n",
    "              (2, 3),\n",
    "              (3, 4),\n",
    "              (5, 6),\n",
    "              (5, 9),\n",
    "              (6, 7),\n",
    "              (7, 8),\n",
    "              (9, 10),\n",
    "              (9, 13),\n",
    "              (10, 11),\n",
    "              (11, 12),\n",
    "              (13, 14),\n",
    "              (13, 17),\n",
    "              (14, 15),\n",
    "              (15, 16),\n",
    "              (17, 18),\n",
    "              (18, 19),\n",
    "              (19, 20)]\n",
    "second_edges = [(e[0] + 21, e[1] + 21) for e in edges]\n",
    "for se in second_edges:\n",
    "    edges.append(se)\n",
    "for e in edges: # make edges bidirectional\n",
    "    if (e[1], e[0]) not in edges:\n",
    "        edges.append((e[1], e[0]))\n",
    "print('edges:', edges)\n",
    "# print(train_skels[sample_idx[0], :, :, sample_idx[1]])\n",
    "\n",
    "sample = train_skels[sample_idx[0], :, :, sample_idx[1]]\n",
    "print('second hand:', np.sum(sample[21:]))\n",
    "print(sample.shape)\n",
    "fig = plt.figure(figsize = (10, 7))\n",
    "ax = plt.axes(projection =\"3d\")\n",
    "# for e in range(sample.shape[0]):\n",
    "#     ax.scatter(sample[e, 0], sample[e, 1], sample[e, 2], s=5, c='r')\n",
    "ax.scatter(sample[:, 0], sample[:, 1], sample[:, 2], s=25, c='r')\n",
    "for e in edges:\n",
    "    x_line = np.linspace(sample[e[0], 0], sample[e[1], 0], 10)\n",
    "    y_line = np.linspace(sample[e[0], 1], sample[e[1], 1], 10)\n",
    "    z_line = np.linspace(sample[e[0], 2], sample[e[1], 2], 10)\n",
    "    ax.plot3D(x_line, y_line, z_line, c='b')"
   ]
  },
  {
   "cell_type": "code",
   "execution_count": 10,
   "metadata": {
    "scrolled": true
   },
   "outputs": [],
   "source": [
    "# import networkx as nx\n",
    "# G = nx.Graph()\n",
    "# # G.add_nodes_from([range(21)], pose=train_skels[0, :, :, 20])\n",
    "# # pos = dict()\n",
    "# for i in range(21):\n",
    "# #     pos[i] = train_skels[0, i, :, 20]\n",
    "#     G.add_node(i, pos = np.squeeze(train_skels[0, i, :, 20]).T)\n",
    "# for e in edges:\n",
    "#     G.add_edge(e[0], e[1])\n",
    "# pos=nx.get_node_attributes(G,'pos')\n",
    "# # G.add_nodes_from([range(21)], pose = pos)\n",
    "# # G.add_edges_from(edges)\n",
    "# # nx.draw(G, with_labels=True, font_weight='bold', node_size=30,nodelist=[range(21)],node_color='r')\n",
    "# nx.draw(G, pos, with_labels=True, font_weight='bold')\n",
    "# # nx.draw_networkx_nodes(G, pos, node_size=30,nodelist=[range(21)],node_color='r')"
   ]
  },
  {
   "cell_type": "code",
   "execution_count": 11,
   "metadata": {},
   "outputs": [],
   "source": [
    "# def process_data(i):\n",
    "    \n",
    "#     data = Data(x=torch.tensor(x_data[i].reshape(-1,4).T, dtype=torch.float), y=torch.tensor(label[i], dtype=torch.float),\n",
    "#                 edge_index=torch.tensor(edge_index, dtype = torch.long).T)\n",
    "#     return data"
   ]
  },
  {
   "cell_type": "code",
   "execution_count": 12,
   "metadata": {},
   "outputs": [],
   "source": [
    "class MyDataset(Dataset):\n",
    "    def __init__(self, x, y):\n",
    "        super().__init__()\n",
    "        self.x = x\n",
    "        self.y = y\n",
    "    \n",
    "    def __len__(self):\n",
    "        return len(self.y)\n",
    "    \n",
    "    def __getitem__(self, idx):\n",
    "        \n",
    "        data = Data(x=torch.tensor(self.x[idx].reshape(-1, 42).T, dtype=torch.float), y=torch.tensor(self.y[idx], dtype=torch.long),\n",
    "                edge_index=torch.tensor(np.array(edges), dtype = torch.long).T)\n",
    "        return data"
   ]
  },
  {
   "cell_type": "code",
   "execution_count": 13,
   "metadata": {},
   "outputs": [],
   "source": [
    "class MyDataset_temporal(Dataset):\n",
    "    def __init__(self, x, y):\n",
    "        super().__init__()\n",
    "        self.x = x\n",
    "        self.y = y\n",
    "    \n",
    "    def __len__(self):\n",
    "        return len(self.y)\n",
    "    \n",
    "    def __getitem__(self, idx):\n",
    "        \n",
    "        data = Data(x=torch.tensor(self.x[idx], dtype=torch.float), y=torch.tensor(self.y[idx], dtype=torch.long),\n",
    "                edge_index=torch.tensor(np.array(edges), dtype = torch.long).T)\n",
    "        return data"
   ]
  },
  {
   "cell_type": "markdown",
   "metadata": {},
   "source": [
    "## Classify skel"
   ]
  },
  {
   "cell_type": "code",
   "execution_count": 14,
   "metadata": {},
   "outputs": [],
   "source": [
    "%matplotlib inline\n",
    "def train( model, model_name, prog_bar = True):\n",
    "    \n",
    "    max_test_acc = -1\n",
    "    train_accs = []\n",
    "    test_accs = []\n",
    "#     temp = 1\n",
    "    for epoch in range(epochs):\n",
    "        train_acc = []\n",
    "        test_acc = []\n",
    "        if prog_bar:\n",
    "            pbar = tqdm(train_loader,position=0)\n",
    "        else:\n",
    "            pbar = train_loader\n",
    "            \n",
    "        # train\n",
    "        for data in pbar:\n",
    "            data = data.to(device)\n",
    "            optimizer.zero_grad()\n",
    "            out = model(data)\n",
    "            loss = criterion(out, data.y)\n",
    "            loss.backward()\n",
    "            optimizer.step()\n",
    "            preds = np.argmax(out.cpu().detach().numpy(), -1)\n",
    "            labels = data.y.cpu().detach().numpy()\n",
    "#             print(temp)\n",
    "#             temp += 1\n",
    "#             print('preds', preds)\n",
    "#             print('labels', labels)\n",
    "            \n",
    "            acc = np.sum(preds == labels) / len(labels) * 100\n",
    "            train_acc.append(acc)\n",
    "            if prog_bar:\n",
    "                pbar.set_description('Train_acc: '+str(round(acc,2)))\n",
    "        train_accs.append(np.mean(train_acc))\n",
    "        \n",
    "        # test\n",
    "        all_preds = []\n",
    "        for data in test_loader:\n",
    "            data = data.to(device)\n",
    "            optimizer.zero_grad()\n",
    "            out = model(data)\n",
    "            loss = criterion(out, data.y)\n",
    "            preds = np.argmax(out.cpu().detach().numpy(), -1)\n",
    "            labels = data.y.cpu().detach().numpy()\n",
    "            acc = np.sum(preds == labels) / len(labels) * 100\n",
    "            test_acc.append(acc)\n",
    "            all_preds.append(preds)\n",
    "        test_accs.append(np.mean(test_acc))\n",
    "        \n",
    "        if np.mean(test_acc) > max_test_acc:\n",
    "#             print(np.array(all_preds[0]).shape)\n",
    "#             print(np.array(all_preds[1]).shape)\n",
    "            best_preds = [i for a in all_preds for i in a]\n",
    "            max_test_acc = np.mean(test_acc)\n",
    "            torch.save(model.state_dict(), '../models/' + model_name + str(round(max_test_acc, 2)) + '.pth')\n",
    "        \n",
    "#         lr_scheduler.step(test_loss)\n",
    "        print('Epoch: ', str(epoch+1)+'/'+str(epochs),'| Training Acc: ', round(np.mean(train_acc), 2), '| Testing Acc: ', round(np.mean(test_acc), 2))\n",
    "#         train_losses.append(train_loss)\n",
    "#         test_losses.append(test_loss)\n",
    "\n",
    "        \n",
    "        if not prog_bar:\n",
    "            clear_output(wait=True)\n",
    "            print('Epoch: ', str(epoch+1)+'/'+str(epochs),'| Training Acc: ', round(np.mean(train_acc), 2), '| Testing Acc: ', round(np.mean(test_acc), 2),\n",
    "                 ', Best Testing Acc:', round(max_test_acc, 2))\n",
    "            plt.plot(train_accs, label=\"Train Acc\")\n",
    "            plt.plot(test_accs, label=\"Validation Acc\")\n",
    "            plt.xlabel(\"# Epoch\")\n",
    "            plt.ylabel(\"Accuracy\")\n",
    "            plt.legend(loc='upper right')\n",
    "            plt.show()\n",
    "    return best_preds"
   ]
  },
  {
   "cell_type": "code",
   "execution_count": 38,
   "metadata": {
    "scrolled": true
   },
   "outputs": [],
   "source": [
    "batch_size = 32\n",
    "training_data = MyDataset(torch.from_numpy(train_skels2), torch.from_numpy(train_labels))\n",
    "testing_data = MyDataset(torch.from_numpy(test_skels2), torch.from_numpy(test_labels))\n",
    "# training_data = MyDataset_temporal(torch.from_numpy(train_skels), torch.from_numpy(train_labels))\n",
    "# testing_data = MyDataset_temporal(torch.from_numpy(test_skels), torch.from_numpy(test_labels))\n",
    "\n",
    "train_loader = DataLoader(training_data, batch_size=batch_size, shuffle=False, collate_fn=lambda x: x)\n",
    "test_loader = DataLoader(testing_data, batch_size=batch_size, shuffle=False, collate_fn=lambda x: x)"
   ]
  },
  {
   "cell_type": "code",
   "execution_count": 39,
   "metadata": {
    "scrolled": true
   },
   "outputs": [
    {
     "name": "stdout",
     "output_type": "stream",
     "text": [
      "Feature batch shape: torch.Size([1344, 450])\n",
      "Labels batch shape: torch.Size([32])\n"
     ]
    }
   ],
   "source": [
    "# training_features, training_labels = next(iter(train_loader))\n",
    "data = next(iter(train_loader))\n",
    "print(f\"Feature batch shape: {data.x.size()}\")\n",
    "print(f\"Labels batch shape: {data.y.size()}\")"
   ]
  },
  {
   "cell_type": "code",
   "execution_count": 40,
   "metadata": {},
   "outputs": [
    {
     "data": {
      "text/plain": [
       "DataBatch(x=[1344, 450], edge_index=[2, 2688], y=[32], batch=[1344], ptr=[33])"
      ]
     },
     "execution_count": 40,
     "metadata": {},
     "output_type": "execute_result"
    }
   ],
   "source": [
    "data"
   ]
  },
  {
   "cell_type": "markdown",
   "metadata": {},
   "source": [
    "## ChebConv"
   ]
  },
  {
   "cell_type": "code",
   "execution_count": 41,
   "metadata": {},
   "outputs": [],
   "source": [
    "from torch_geometric.nn.conv import ChebConv"
   ]
  },
  {
   "cell_type": "code",
   "execution_count": 44,
   "metadata": {},
   "outputs": [],
   "source": [
    "# model to make prediction for the whole graph\n",
    "class ChebConv_GNN(torch.nn.Module):\n",
    "    def __init__(self):\n",
    "        super().__init__()\n",
    "        self.conv1 = ChebConv(train_skels.shape[2]*train_skels.shape[3], 64, K=5, add_self_loops=True)\n",
    "        self.conv2 = ChebConv(64, 10, K=3, add_self_loops=True)\n",
    "#         self.pool1 = gnn.GlobalAttention(torch.nn.Sequential(torch.nn.Linear(64,1)))\n",
    "#         self.pool1 = gnn.global_add_pool(self.x, self.batch)\n",
    "#         self.lin1 = torch.nn.Linear(len(np.unique(y_data)),1)\n",
    "    def forward(self, data):\n",
    "        x, edge_index, batch = data.x, data.edge_index, data.batch\n",
    "#         print('x',x.shape)\n",
    "#         print('batch',batch.shape)\n",
    "        \n",
    "        x = self.conv1(x, edge_index)\n",
    "        x = F.relu(x)\n",
    "        x = F.dropout(x, training=self.training)\n",
    "        x = self.conv2(x, edge_index)\n",
    "#         x = self.pool1(x, batch)\n",
    "        x = gmp(x, batch)\n",
    "        return F.softmax(x, dim=-1)#.squeeze()"
   ]
  },
  {
   "cell_type": "code",
   "execution_count": 45,
   "metadata": {
    "scrolled": true
   },
   "outputs": [
    {
     "name": "stdout",
     "output_type": "stream",
     "text": [
      "device: cuda\n"
     ]
    }
   ],
   "source": [
    "device = torch.device('cuda' if torch.cuda.is_available() else 'cpu')\n",
    "model = ChebConv_GNN().to(device)\n",
    "# summary(model, (150, 1, 128, 128))\n",
    "print('device:', device)\n",
    "criterion = nn.CrossEntropyLoss()\n",
    "optimizer = torch.optim.Adam(model.parameters(), lr=0.001)"
   ]
  },
  {
   "cell_type": "code",
   "execution_count": 46,
   "metadata": {
    "scrolled": true
   },
   "outputs": [
    {
     "name": "stdout",
     "output_type": "stream",
     "text": [
      "Epoch:  694/1000 | Training Acc:  71.81 | Testing Acc:  55.29 , Best Testing Acc: 64.9\n"
     ]
    },
    {
     "ename": "KeyboardInterrupt",
     "evalue": "",
     "output_type": "error",
     "traceback": [
      "\u001b[0;31m---------------------------------------------------------------------------\u001b[0m",
      "\u001b[0;31mKeyboardInterrupt\u001b[0m                         Traceback (most recent call last)",
      "Input \u001b[0;32mIn [46]\u001b[0m, in \u001b[0;36m<cell line: 3>\u001b[0;34m()\u001b[0m\n\u001b[1;32m      1\u001b[0m model_name \u001b[38;5;241m=\u001b[39m \u001b[38;5;124m'\u001b[39m\u001b[38;5;124mmodel_ChebConv_GNN_skel_imit_acc\u001b[39m\u001b[38;5;124m'\u001b[39m\n\u001b[1;32m      2\u001b[0m epochs \u001b[38;5;241m=\u001b[39m \u001b[38;5;241m1000\u001b[39m\n\u001b[0;32m----> 3\u001b[0m best_preds \u001b[38;5;241m=\u001b[39m \u001b[43mtrain\u001b[49m\u001b[43m(\u001b[49m\u001b[43mmodel\u001b[49m\u001b[43m,\u001b[49m\u001b[43m \u001b[49m\u001b[43mmodel_name\u001b[49m\u001b[43m,\u001b[49m\u001b[43m \u001b[49m\u001b[43mprog_bar\u001b[49m\u001b[43m \u001b[49m\u001b[38;5;241;43m=\u001b[39;49m\u001b[43m \u001b[49m\u001b[38;5;28;43;01mFalse\u001b[39;49;00m\u001b[43m)\u001b[49m\n",
      "Input \u001b[0;32mIn [14]\u001b[0m, in \u001b[0;36mtrain\u001b[0;34m(model, model_name, prog_bar)\u001b[0m\n\u001b[1;32m     71\u001b[0m         plt\u001b[38;5;241m.\u001b[39mylabel(\u001b[38;5;124m\"\u001b[39m\u001b[38;5;124mAccuracy\u001b[39m\u001b[38;5;124m\"\u001b[39m)\n\u001b[1;32m     72\u001b[0m         plt\u001b[38;5;241m.\u001b[39mlegend(loc\u001b[38;5;241m=\u001b[39m\u001b[38;5;124m'\u001b[39m\u001b[38;5;124mupper right\u001b[39m\u001b[38;5;124m'\u001b[39m)\n\u001b[0;32m---> 73\u001b[0m         \u001b[43mplt\u001b[49m\u001b[38;5;241;43m.\u001b[39;49m\u001b[43mshow\u001b[49m\u001b[43m(\u001b[49m\u001b[43m)\u001b[49m\n\u001b[1;32m     74\u001b[0m \u001b[38;5;28;01mreturn\u001b[39;00m best_preds\n",
      "File \u001b[0;32m~/anaconda3/envs/emre_venv/lib/python3.9/site-packages/matplotlib/pyplot.py:411\u001b[0m, in \u001b[0;36mshow\u001b[0;34m(*args, **kwargs)\u001b[0m\n\u001b[1;32m    367\u001b[0m \u001b[38;5;124;03m\"\"\"\u001b[39;00m\n\u001b[1;32m    368\u001b[0m \u001b[38;5;124;03mDisplay all open figures.\u001b[39;00m\n\u001b[1;32m    369\u001b[0m \n\u001b[0;32m   (...)\u001b[0m\n\u001b[1;32m    408\u001b[0m \u001b[38;5;124;03mexplicitly there.\u001b[39;00m\n\u001b[1;32m    409\u001b[0m \u001b[38;5;124;03m\"\"\"\u001b[39;00m\n\u001b[1;32m    410\u001b[0m _warn_if_gui_out_of_main_thread()\n\u001b[0;32m--> 411\u001b[0m \u001b[38;5;28;01mreturn\u001b[39;00m \u001b[43m_get_backend_mod\u001b[49m\u001b[43m(\u001b[49m\u001b[43m)\u001b[49m\u001b[38;5;241;43m.\u001b[39;49m\u001b[43mshow\u001b[49m\u001b[43m(\u001b[49m\u001b[38;5;241;43m*\u001b[39;49m\u001b[43margs\u001b[49m\u001b[43m,\u001b[49m\u001b[43m \u001b[49m\u001b[38;5;241;43m*\u001b[39;49m\u001b[38;5;241;43m*\u001b[39;49m\u001b[43mkwargs\u001b[49m\u001b[43m)\u001b[49m\n",
      "File \u001b[0;32m~/anaconda3/envs/emre_venv/lib/python3.9/site-packages/matplotlib_inline/backend_inline.py:90\u001b[0m, in \u001b[0;36mshow\u001b[0;34m(close, block)\u001b[0m\n\u001b[1;32m     88\u001b[0m \u001b[38;5;28;01mtry\u001b[39;00m:\n\u001b[1;32m     89\u001b[0m     \u001b[38;5;28;01mfor\u001b[39;00m figure_manager \u001b[38;5;129;01min\u001b[39;00m Gcf\u001b[38;5;241m.\u001b[39mget_all_fig_managers():\n\u001b[0;32m---> 90\u001b[0m         \u001b[43mdisplay\u001b[49m\u001b[43m(\u001b[49m\n\u001b[1;32m     91\u001b[0m \u001b[43m            \u001b[49m\u001b[43mfigure_manager\u001b[49m\u001b[38;5;241;43m.\u001b[39;49m\u001b[43mcanvas\u001b[49m\u001b[38;5;241;43m.\u001b[39;49m\u001b[43mfigure\u001b[49m\u001b[43m,\u001b[49m\n\u001b[1;32m     92\u001b[0m \u001b[43m            \u001b[49m\u001b[43mmetadata\u001b[49m\u001b[38;5;241;43m=\u001b[39;49m\u001b[43m_fetch_figure_metadata\u001b[49m\u001b[43m(\u001b[49m\u001b[43mfigure_manager\u001b[49m\u001b[38;5;241;43m.\u001b[39;49m\u001b[43mcanvas\u001b[49m\u001b[38;5;241;43m.\u001b[39;49m\u001b[43mfigure\u001b[49m\u001b[43m)\u001b[49m\n\u001b[1;32m     93\u001b[0m \u001b[43m        \u001b[49m\u001b[43m)\u001b[49m\n\u001b[1;32m     94\u001b[0m \u001b[38;5;28;01mfinally\u001b[39;00m:\n\u001b[1;32m     95\u001b[0m     show\u001b[38;5;241m.\u001b[39m_to_draw \u001b[38;5;241m=\u001b[39m []\n",
      "File \u001b[0;32m~/anaconda3/envs/emre_venv/lib/python3.9/site-packages/IPython/core/display_functions.py:305\u001b[0m, in \u001b[0;36mdisplay\u001b[0;34m(include, exclude, metadata, transient, display_id, raw, clear, *objs, **kwargs)\u001b[0m\n\u001b[1;32m    302\u001b[0m         \u001b[38;5;28;01mif\u001b[39;00m metadata:\n\u001b[1;32m    303\u001b[0m             \u001b[38;5;66;03m# kwarg-specified metadata gets precedence\u001b[39;00m\n\u001b[1;32m    304\u001b[0m             _merge(md_dict, metadata)\n\u001b[0;32m--> 305\u001b[0m         \u001b[43mpublish_display_data\u001b[49m\u001b[43m(\u001b[49m\u001b[43mdata\u001b[49m\u001b[38;5;241;43m=\u001b[39;49m\u001b[43mformat_dict\u001b[49m\u001b[43m,\u001b[49m\u001b[43m \u001b[49m\u001b[43mmetadata\u001b[49m\u001b[38;5;241;43m=\u001b[39;49m\u001b[43mmd_dict\u001b[49m\u001b[43m,\u001b[49m\u001b[43m \u001b[49m\u001b[38;5;241;43m*\u001b[39;49m\u001b[38;5;241;43m*\u001b[39;49m\u001b[43mkwargs\u001b[49m\u001b[43m)\u001b[49m\n\u001b[1;32m    306\u001b[0m \u001b[38;5;28;01mif\u001b[39;00m display_id:\n\u001b[1;32m    307\u001b[0m     \u001b[38;5;28;01mreturn\u001b[39;00m DisplayHandle(display_id)\n",
      "File \u001b[0;32m~/anaconda3/envs/emre_venv/lib/python3.9/site-packages/IPython/core/display_functions.py:93\u001b[0m, in \u001b[0;36mpublish_display_data\u001b[0;34m(data, metadata, source, transient, **kwargs)\u001b[0m\n\u001b[1;32m     90\u001b[0m \u001b[38;5;28;01mif\u001b[39;00m transient:\n\u001b[1;32m     91\u001b[0m     kwargs[\u001b[38;5;124m'\u001b[39m\u001b[38;5;124mtransient\u001b[39m\u001b[38;5;124m'\u001b[39m] \u001b[38;5;241m=\u001b[39m transient\n\u001b[0;32m---> 93\u001b[0m \u001b[43mdisplay_pub\u001b[49m\u001b[38;5;241;43m.\u001b[39;49m\u001b[43mpublish\u001b[49m\u001b[43m(\u001b[49m\n\u001b[1;32m     94\u001b[0m \u001b[43m    \u001b[49m\u001b[43mdata\u001b[49m\u001b[38;5;241;43m=\u001b[39;49m\u001b[43mdata\u001b[49m\u001b[43m,\u001b[49m\n\u001b[1;32m     95\u001b[0m \u001b[43m    \u001b[49m\u001b[43mmetadata\u001b[49m\u001b[38;5;241;43m=\u001b[39;49m\u001b[43mmetadata\u001b[49m\u001b[43m,\u001b[49m\n\u001b[1;32m     96\u001b[0m \u001b[43m    \u001b[49m\u001b[38;5;241;43m*\u001b[39;49m\u001b[38;5;241;43m*\u001b[39;49m\u001b[43mkwargs\u001b[49m\n\u001b[1;32m     97\u001b[0m \u001b[43m\u001b[49m\u001b[43m)\u001b[49m\n",
      "File \u001b[0;32m~/anaconda3/envs/emre_venv/lib/python3.9/site-packages/ipykernel/zmqshell.py:102\u001b[0m, in \u001b[0;36mZMQDisplayPublisher.publish\u001b[0;34m(self, data, metadata, transient, update)\u001b[0m\n\u001b[1;32m     80\u001b[0m \u001b[38;5;28;01mdef\u001b[39;00m \u001b[38;5;21mpublish\u001b[39m(\n\u001b[1;32m     81\u001b[0m     \u001b[38;5;28mself\u001b[39m,\n\u001b[1;32m     82\u001b[0m     data,\n\u001b[0;32m   (...)\u001b[0m\n\u001b[1;32m     85\u001b[0m     update\u001b[38;5;241m=\u001b[39m\u001b[38;5;28;01mFalse\u001b[39;00m,\n\u001b[1;32m     86\u001b[0m ):\n\u001b[1;32m     87\u001b[0m     \u001b[38;5;124;03m\"\"\"Publish a display-data message\u001b[39;00m\n\u001b[1;32m     88\u001b[0m \n\u001b[1;32m     89\u001b[0m \u001b[38;5;124;03m    Parameters\u001b[39;00m\n\u001b[0;32m   (...)\u001b[0m\n\u001b[1;32m    100\u001b[0m \u001b[38;5;124;03m        If True, send an update_display_data message instead of display_data.\u001b[39;00m\n\u001b[1;32m    101\u001b[0m \u001b[38;5;124;03m    \"\"\"\u001b[39;00m\n\u001b[0;32m--> 102\u001b[0m     \u001b[38;5;28;43mself\u001b[39;49m\u001b[38;5;241;43m.\u001b[39;49m\u001b[43m_flush_streams\u001b[49m\u001b[43m(\u001b[49m\u001b[43m)\u001b[49m\n\u001b[1;32m    103\u001b[0m     \u001b[38;5;28;01mif\u001b[39;00m metadata \u001b[38;5;129;01mis\u001b[39;00m \u001b[38;5;28;01mNone\u001b[39;00m:\n\u001b[1;32m    104\u001b[0m         metadata \u001b[38;5;241m=\u001b[39m {}\n",
      "File \u001b[0;32m~/anaconda3/envs/emre_venv/lib/python3.9/site-packages/ipykernel/zmqshell.py:66\u001b[0m, in \u001b[0;36mZMQDisplayPublisher._flush_streams\u001b[0;34m(self)\u001b[0m\n\u001b[1;32m     64\u001b[0m \u001b[38;5;124;03m\"\"\"flush IO Streams prior to display\"\"\"\u001b[39;00m\n\u001b[1;32m     65\u001b[0m sys\u001b[38;5;241m.\u001b[39mstdout\u001b[38;5;241m.\u001b[39mflush()\n\u001b[0;32m---> 66\u001b[0m \u001b[43msys\u001b[49m\u001b[38;5;241;43m.\u001b[39;49m\u001b[43mstderr\u001b[49m\u001b[38;5;241;43m.\u001b[39;49m\u001b[43mflush\u001b[49m\u001b[43m(\u001b[49m\u001b[43m)\u001b[49m\n",
      "File \u001b[0;32m~/anaconda3/envs/emre_venv/lib/python3.9/site-packages/ipykernel/iostream.py:478\u001b[0m, in \u001b[0;36mOutStream.flush\u001b[0;34m(self)\u001b[0m\n\u001b[1;32m    476\u001b[0m \u001b[38;5;66;03m# wait for flush to actually get through, if we can.\u001b[39;00m\n\u001b[1;32m    477\u001b[0m evt \u001b[38;5;241m=\u001b[39m threading\u001b[38;5;241m.\u001b[39mEvent()\n\u001b[0;32m--> 478\u001b[0m \u001b[38;5;28;43mself\u001b[39;49m\u001b[38;5;241;43m.\u001b[39;49m\u001b[43mpub_thread\u001b[49m\u001b[38;5;241;43m.\u001b[39;49m\u001b[43mschedule\u001b[49m\u001b[43m(\u001b[49m\u001b[43mevt\u001b[49m\u001b[38;5;241;43m.\u001b[39;49m\u001b[43mset\u001b[49m\u001b[43m)\u001b[49m\n\u001b[1;32m    479\u001b[0m \u001b[38;5;66;03m# and give a timeout to avoid\u001b[39;00m\n\u001b[1;32m    480\u001b[0m \u001b[38;5;28;01mif\u001b[39;00m \u001b[38;5;129;01mnot\u001b[39;00m evt\u001b[38;5;241m.\u001b[39mwait(\u001b[38;5;28mself\u001b[39m\u001b[38;5;241m.\u001b[39mflush_timeout):\n\u001b[1;32m    481\u001b[0m     \u001b[38;5;66;03m# write directly to __stderr__ instead of warning because\u001b[39;00m\n\u001b[1;32m    482\u001b[0m     \u001b[38;5;66;03m# if this is happening sys.stderr may be the problem.\u001b[39;00m\n",
      "File \u001b[0;32m~/anaconda3/envs/emre_venv/lib/python3.9/site-packages/ipykernel/iostream.py:207\u001b[0m, in \u001b[0;36mIOPubThread.schedule\u001b[0;34m(self, f)\u001b[0m\n\u001b[1;32m    202\u001b[0m \u001b[38;5;28;01mdef\u001b[39;00m \u001b[38;5;21mschedule\u001b[39m(\u001b[38;5;28mself\u001b[39m, f):\n\u001b[1;32m    203\u001b[0m     \u001b[38;5;124;03m\"\"\"Schedule a function to be called in our IO thread.\u001b[39;00m\n\u001b[1;32m    204\u001b[0m \n\u001b[1;32m    205\u001b[0m \u001b[38;5;124;03m    If the thread is not running, call immediately.\u001b[39;00m\n\u001b[1;32m    206\u001b[0m \u001b[38;5;124;03m    \"\"\"\u001b[39;00m\n\u001b[0;32m--> 207\u001b[0m     \u001b[38;5;28;01mif\u001b[39;00m \u001b[38;5;28;43mself\u001b[39;49m\u001b[38;5;241;43m.\u001b[39;49m\u001b[43mthread\u001b[49m\u001b[38;5;241;43m.\u001b[39;49m\u001b[43mis_alive\u001b[49m\u001b[43m(\u001b[49m\u001b[43m)\u001b[49m:\n\u001b[1;32m    208\u001b[0m         \u001b[38;5;28mself\u001b[39m\u001b[38;5;241m.\u001b[39m_events\u001b[38;5;241m.\u001b[39mappend(f)\n\u001b[1;32m    209\u001b[0m         \u001b[38;5;66;03m# wake event thread (message content is ignored)\u001b[39;00m\n",
      "File \u001b[0;32m~/anaconda3/envs/emre_venv/lib/python3.9/threading.py:1145\u001b[0m, in \u001b[0;36mThread.is_alive\u001b[0;34m(self)\u001b[0m\n\u001b[1;32m   1143\u001b[0m     \u001b[38;5;28;01mreturn\u001b[39;00m \u001b[38;5;28;01mFalse\u001b[39;00m\n\u001b[1;32m   1144\u001b[0m \u001b[38;5;28mself\u001b[39m\u001b[38;5;241m.\u001b[39m_wait_for_tstate_lock(\u001b[38;5;28;01mFalse\u001b[39;00m)\n\u001b[0;32m-> 1145\u001b[0m \u001b[38;5;28;01mreturn\u001b[39;00m \u001b[38;5;129;01mnot\u001b[39;00m \u001b[38;5;28;43mself\u001b[39;49m\u001b[38;5;241;43m.\u001b[39;49m\u001b[43m_is_stopped\u001b[49m\n",
      "\u001b[0;31mKeyboardInterrupt\u001b[0m: "
     ]
    }
   ],
   "source": [
    "model_name = 'model_ChebConv_GNN_skel_imit_acc'\n",
    "epochs = 1000\n",
    "best_preds = train(model, model_name, prog_bar = False)"
   ]
  },
  {
   "cell_type": "code",
   "execution_count": null,
   "metadata": {
    "scrolled": true
   },
   "outputs": [],
   "source": [
    "acc = np.sum([1 for i in range(len(test_labels)) if test_labels[i] == best_preds[i]]) / len(test_labels) * 100\n",
    "acc"
   ]
  },
  {
   "cell_type": "markdown",
   "metadata": {},
   "source": [
    "## GCNConv"
   ]
  },
  {
   "cell_type": "code",
   "execution_count": 20,
   "metadata": {},
   "outputs": [],
   "source": [
    "# model to make prediction for the whole graph\n",
    "class GCN(torch.nn.Module):\n",
    "    def __init__(self):\n",
    "        super().__init__()\n",
    "        self.conv1 = GCNConv(train_skels.shape[2]*train_skels.shape[3], 64, add_self_loops=True)\n",
    "        self.conv2 = GCNConv(64, 10, add_self_loops=True)\n",
    "#         self.pool1 = gnn.GlobalAttention(torch.nn.Sequential(torch.nn.Linear(64,1)))\n",
    "#         self.pool1 = gnn.global_add_pool(self.x, self.batch)\n",
    "#         self.lin1 = torch.nn.Linear(len(np.unique(y_data)),1)\n",
    "    def forward(self, data):\n",
    "        x, edge_index, batch = data.x, data.edge_index, data.batch\n",
    "#         print('x',x.shape)\n",
    "#         print('batch',batch.shape)\n",
    "        \n",
    "        x = self.conv1(x, edge_index)\n",
    "        x = F.relu(x)\n",
    "        x = F.dropout(x, training=self.training)\n",
    "        x = self.conv2(x, edge_index)\n",
    "#         x = self.pool1(x, batch)\n",
    "        x = gmp(x, batch)\n",
    "        return F.softmax(x, dim=-1)#.squeeze()"
   ]
  },
  {
   "cell_type": "code",
   "execution_count": 22,
   "metadata": {
    "scrolled": true
   },
   "outputs": [
    {
     "name": "stdout",
     "output_type": "stream",
     "text": [
      "device: cuda\n"
     ]
    }
   ],
   "source": [
    "device = torch.device('cuda' if torch.cuda.is_available() else 'cpu')\n",
    "model = GCN().to(device)\n",
    "# summary(model, (150, 1, 128, 128))\n",
    "print('device:', device)\n",
    "criterion = nn.CrossEntropyLoss()\n",
    "optimizer = torch.optim.Adam(model.parameters(), lr=0.001)"
   ]
  },
  {
   "cell_type": "code",
   "execution_count": 160,
   "metadata": {
    "scrolled": false
   },
   "outputs": [
    {
     "name": "stdout",
     "output_type": "stream",
     "text": [
      "Epoch:  1000/1000 | Training Acc:  94.52 | Testing Acc:  87.02 , Best Testing Acc: 87.26\n"
     ]
    },
    {
     "data": {
      "image/png": "[encoded data removed]",
      "text/plain": [
       "<Figure size 640x480 with 1 Axes>"
      ]
     },
     "metadata": {},
     "output_type": "display_data"
    }
   ],
   "source": [
    "model_name = 'model_gcn_skel_imit_acc'\n",
    "epochs = 1000\n",
    "best_preds = train(model, model_name, prog_bar = False)"
   ]
  },
  {
   "cell_type": "code",
   "execution_count": 161,
   "metadata": {
    "scrolled": true
   },
   "outputs": [
    {
     "data": {
      "text/plain": [
       "86.23376623376623"
      ]
     },
     "execution_count": 161,
     "metadata": {},
     "output_type": "execute_result"
    }
   ],
   "source": [
    "acc = np.sum([1 for i in range(len(test_labels)) if test_labels[i] == best_preds[i]]) / len(test_labels) * 100\n",
    "acc"
   ]
  },
  {
   "cell_type": "markdown",
   "metadata": {},
   "source": [
    "##  SAGEConv"
   ]
  },
  {
   "cell_type": "code",
   "execution_count": 51,
   "metadata": {},
   "outputs": [],
   "source": [
    "from torch_geometric.nn.conv import SAGEConv"
   ]
  },
  {
   "cell_type": "code",
   "execution_count": 52,
   "metadata": {},
   "outputs": [],
   "source": [
    "# model to make prediction for the whole graph\n",
    "class SAGEConv_GNN(torch.nn.Module):\n",
    "    def __init__(self):\n",
    "        super().__init__()\n",
    "        self.conv1 = SAGEConv(train_skels.shape[2]*train_skels.shape[3], 64, add_self_loops=True)\n",
    "        self.conv2 = SAGEConv(64, 10, add_self_loops=True)\n",
    "#         self.pool1 = gnn.GlobalAttention(torch.nn.Sequential(torch.nn.Linear(64,1)))\n",
    "#         self.pool1 = gnn.global_add_pool(self.x, self.batch)\n",
    "#         self.lin1 = torch.nn.Linear(len(np.unique(y_data)),1)\n",
    "    def forward(self, data):\n",
    "        x, edge_index, batch = data.x, data.edge_index, data.batch\n",
    "#         print('x',x.shape)\n",
    "#         print('batch',batch.shape)\n",
    "        \n",
    "        x = self.conv1(x, edge_index)\n",
    "        x = F.relu(x)\n",
    "        x = F.dropout(x, training=self.training)\n",
    "        x = self.conv2(x, edge_index)\n",
    "#         x = self.pool1(x, batch)\n",
    "        x = gmp(x, batch)\n",
    "        return F.softmax(x, dim=-1)#.squeeze()"
   ]
  },
  {
   "cell_type": "code",
   "execution_count": 53,
   "metadata": {
    "scrolled": true
   },
   "outputs": [
    {
     "name": "stdout",
     "output_type": "stream",
     "text": [
      "device: cuda\n"
     ]
    }
   ],
   "source": [
    "device = torch.device('cuda' if torch.cuda.is_available() else 'cpu')\n",
    "model = SAGEConv_GNN().to(device)\n",
    "# summary(model, (150, 1, 128, 128))\n",
    "print('device:', device)\n",
    "criterion = nn.CrossEntropyLoss()\n",
    "optimizer = torch.optim.Adam(model.parameters(), lr=0.001)"
   ]
  },
  {
   "cell_type": "code",
   "execution_count": 1,
   "metadata": {
    "scrolled": false
   },
   "outputs": [
    {
     "ename": "NameError",
     "evalue": "name 'train' is not defined",
     "output_type": "error",
     "traceback": [
      "\u001b[0;31m---------------------------------------------------------------------------\u001b[0m",
      "\u001b[0;31mNameError\u001b[0m                                 Traceback (most recent call last)",
      "Input \u001b[0;32mIn [1]\u001b[0m, in \u001b[0;36m<cell line: 3>\u001b[0;34m()\u001b[0m\n\u001b[1;32m      1\u001b[0m model_name \u001b[38;5;241m=\u001b[39m \u001b[38;5;124m'\u001b[39m\u001b[38;5;124mmodel_SAGE_skel_imit_acc\u001b[39m\u001b[38;5;124m'\u001b[39m \u001b[38;5;66;03m# 93.75\u001b[39;00m\n\u001b[1;32m      2\u001b[0m epochs \u001b[38;5;241m=\u001b[39m \u001b[38;5;241m500\u001b[39m\n\u001b[0;32m----> 3\u001b[0m best_preds \u001b[38;5;241m=\u001b[39m \u001b[43mtrain\u001b[49m(model, model_name, prog_bar \u001b[38;5;241m=\u001b[39m \u001b[38;5;28;01mFalse\u001b[39;00m)\n",
      "\u001b[0;31mNameError\u001b[0m: name 'train' is not defined"
     ]
    }
   ],
   "source": [
    "model_name = 'model_SAGE_skel_imit_acc' # 93.75\n",
    "epochs = 500\n",
    "best_preds = train(model, model_name, prog_bar = False)"
   ]
  },
  {
   "cell_type": "code",
   "execution_count": 57,
   "metadata": {
    "scrolled": true
   },
   "outputs": [
    {
     "data": {
      "text/plain": [
       "93.24675324675324"
      ]
     },
     "execution_count": 57,
     "metadata": {},
     "output_type": "execute_result"
    }
   ],
   "source": [
    "acc = np.sum([1 for i in range(len(test_labels)) if test_labels[i] == best_preds[i]]) / len(test_labels) * 100\n",
    "acc"
   ]
  },
  {
   "cell_type": "markdown",
   "metadata": {},
   "source": [
    "##  GATConv"
   ]
  },
  {
   "cell_type": "code",
   "execution_count": 58,
   "metadata": {},
   "outputs": [],
   "source": [
    "from torch_geometric.nn.conv import GATConv"
   ]
  },
  {
   "cell_type": "code",
   "execution_count": 59,
   "metadata": {},
   "outputs": [],
   "source": [
    "# model to make prediction for the whole graph\n",
    "class GATConv_GNN(torch.nn.Module):\n",
    "    def __init__(self):\n",
    "        super().__init__()\n",
    "        self.conv1 = GATConv(train_skels.shape[2]*train_skels.shape[3], 64, add_self_loops=True)\n",
    "        self.conv2 = GATConv(64, 10, add_self_loops=True)\n",
    "#         self.pool1 = gnn.GlobalAttention(torch.nn.Sequential(torch.nn.Linear(64,1)))\n",
    "#         self.pool1 = gnn.global_add_pool(self.x, self.batch)\n",
    "#         self.lin1 = torch.nn.Linear(len(np.unique(y_data)),1)\n",
    "    def forward(self, data):\n",
    "        x, edge_index, batch = data.x, data.edge_index, data.batch\n",
    "#         print('x',x.shape)\n",
    "#         print('batch',batch.shape)\n",
    "        \n",
    "        x = self.conv1(x, edge_index)\n",
    "        x = F.relu(x)\n",
    "        x = F.dropout(x, training=self.training)\n",
    "        x = self.conv2(x, edge_index)\n",
    "#         x = self.pool1(x, batch)\n",
    "        x = gmp(x, batch)\n",
    "        return F.softmax(x, dim=-1)#.squeeze()"
   ]
  },
  {
   "cell_type": "code",
   "execution_count": 60,
   "metadata": {
    "scrolled": true
   },
   "outputs": [
    {
     "name": "stdout",
     "output_type": "stream",
     "text": [
      "device: cuda\n"
     ]
    }
   ],
   "source": [
    "device = torch.device('cuda' if torch.cuda.is_available() else 'cpu')\n",
    "model = GATConv_GNN().to(device)\n",
    "# summary(model, (150, 1, 128, 128))\n",
    "print('device:', device)\n",
    "criterion = nn.CrossEntropyLoss()\n",
    "optimizer = torch.optim.Adam(model.parameters(), lr=0.001)"
   ]
  },
  {
   "cell_type": "code",
   "execution_count": 61,
   "metadata": {
    "scrolled": false
   },
   "outputs": [
    {
     "name": "stdout",
     "output_type": "stream",
     "text": [
      "Epoch:  926/1000 | Training Acc:  69.92 | Testing Acc:  54.81 , Best Testing Acc: 64.9\n"
     ]
    },
    {
     "data": {
      "image/png": "[encoded data removed]",
      "text/plain": [
       "<Figure size 640x480 with 1 Axes>"
      ]
     },
     "metadata": {},
     "output_type": "display_data"
    },
    {
     "ename": "KeyboardInterrupt",
     "evalue": "",
     "output_type": "error",
     "traceback": [
      "\u001b[0;31m---------------------------------------------------------------------------\u001b[0m",
      "\u001b[0;31mKeyboardInterrupt\u001b[0m                         Traceback (most recent call last)",
      "Input \u001b[0;32mIn [61]\u001b[0m, in \u001b[0;36m<cell line: 3>\u001b[0;34m()\u001b[0m\n\u001b[1;32m      1\u001b[0m model_name \u001b[38;5;241m=\u001b[39m \u001b[38;5;124m'\u001b[39m\u001b[38;5;124mmodel_GATConv_skel_imit_acc\u001b[39m\u001b[38;5;124m'\u001b[39m \u001b[38;5;66;03m# \u001b[39;00m\n\u001b[1;32m      2\u001b[0m epochs \u001b[38;5;241m=\u001b[39m \u001b[38;5;241m1000\u001b[39m\n\u001b[0;32m----> 3\u001b[0m best_preds \u001b[38;5;241m=\u001b[39m \u001b[43mtrain\u001b[49m\u001b[43m(\u001b[49m\u001b[43mmodel\u001b[49m\u001b[43m,\u001b[49m\u001b[43m \u001b[49m\u001b[43mmodel_name\u001b[49m\u001b[43m,\u001b[49m\u001b[43m \u001b[49m\u001b[43mprog_bar\u001b[49m\u001b[43m \u001b[49m\u001b[38;5;241;43m=\u001b[39;49m\u001b[43m \u001b[49m\u001b[38;5;28;43;01mFalse\u001b[39;49;00m\u001b[43m)\u001b[49m\n",
      "Input \u001b[0;32mIn [14]\u001b[0m, in \u001b[0;36mtrain\u001b[0;34m(model, model_name, prog_bar)\u001b[0m\n\u001b[1;32m     14\u001b[0m     pbar \u001b[38;5;241m=\u001b[39m train_loader\n\u001b[1;32m     16\u001b[0m \u001b[38;5;66;03m# train\u001b[39;00m\n\u001b[0;32m---> 17\u001b[0m \u001b[38;5;28;01mfor\u001b[39;00m data \u001b[38;5;129;01min\u001b[39;00m pbar:\n\u001b[1;32m     18\u001b[0m     data \u001b[38;5;241m=\u001b[39m data\u001b[38;5;241m.\u001b[39mto(device)\n\u001b[1;32m     19\u001b[0m     optimizer\u001b[38;5;241m.\u001b[39mzero_grad()\n",
      "File \u001b[0;32m~/anaconda3/envs/emre_venv/lib/python3.9/site-packages/torch/utils/data/dataloader.py:652\u001b[0m, in \u001b[0;36m_BaseDataLoaderIter.__next__\u001b[0;34m(self)\u001b[0m\n\u001b[1;32m    649\u001b[0m \u001b[38;5;28;01mif\u001b[39;00m \u001b[38;5;28mself\u001b[39m\u001b[38;5;241m.\u001b[39m_sampler_iter \u001b[38;5;129;01mis\u001b[39;00m \u001b[38;5;28;01mNone\u001b[39;00m:\n\u001b[1;32m    650\u001b[0m     \u001b[38;5;66;03m# TODO(https://github.com/pytorch/pytorch/issues/76750)\u001b[39;00m\n\u001b[1;32m    651\u001b[0m     \u001b[38;5;28mself\u001b[39m\u001b[38;5;241m.\u001b[39m_reset()  \u001b[38;5;66;03m# type: ignore[call-arg]\u001b[39;00m\n\u001b[0;32m--> 652\u001b[0m data \u001b[38;5;241m=\u001b[39m \u001b[38;5;28;43mself\u001b[39;49m\u001b[38;5;241;43m.\u001b[39;49m\u001b[43m_next_data\u001b[49m\u001b[43m(\u001b[49m\u001b[43m)\u001b[49m\n\u001b[1;32m    653\u001b[0m \u001b[38;5;28mself\u001b[39m\u001b[38;5;241m.\u001b[39m_num_yielded \u001b[38;5;241m+\u001b[39m\u001b[38;5;241m=\u001b[39m \u001b[38;5;241m1\u001b[39m\n\u001b[1;32m    654\u001b[0m \u001b[38;5;28;01mif\u001b[39;00m \u001b[38;5;28mself\u001b[39m\u001b[38;5;241m.\u001b[39m_dataset_kind \u001b[38;5;241m==\u001b[39m _DatasetKind\u001b[38;5;241m.\u001b[39mIterable \u001b[38;5;129;01mand\u001b[39;00m \\\n\u001b[1;32m    655\u001b[0m         \u001b[38;5;28mself\u001b[39m\u001b[38;5;241m.\u001b[39m_IterableDataset_len_called \u001b[38;5;129;01mis\u001b[39;00m \u001b[38;5;129;01mnot\u001b[39;00m \u001b[38;5;28;01mNone\u001b[39;00m \u001b[38;5;129;01mand\u001b[39;00m \\\n\u001b[1;32m    656\u001b[0m         \u001b[38;5;28mself\u001b[39m\u001b[38;5;241m.\u001b[39m_num_yielded \u001b[38;5;241m>\u001b[39m \u001b[38;5;28mself\u001b[39m\u001b[38;5;241m.\u001b[39m_IterableDataset_len_called:\n",
      "File \u001b[0;32m~/anaconda3/envs/emre_venv/lib/python3.9/site-packages/torch/utils/data/dataloader.py:692\u001b[0m, in \u001b[0;36m_SingleProcessDataLoaderIter._next_data\u001b[0;34m(self)\u001b[0m\n\u001b[1;32m    690\u001b[0m \u001b[38;5;28;01mdef\u001b[39;00m \u001b[38;5;21m_next_data\u001b[39m(\u001b[38;5;28mself\u001b[39m):\n\u001b[1;32m    691\u001b[0m     index \u001b[38;5;241m=\u001b[39m \u001b[38;5;28mself\u001b[39m\u001b[38;5;241m.\u001b[39m_next_index()  \u001b[38;5;66;03m# may raise StopIteration\u001b[39;00m\n\u001b[0;32m--> 692\u001b[0m     data \u001b[38;5;241m=\u001b[39m \u001b[38;5;28;43mself\u001b[39;49m\u001b[38;5;241;43m.\u001b[39;49m\u001b[43m_dataset_fetcher\u001b[49m\u001b[38;5;241;43m.\u001b[39;49m\u001b[43mfetch\u001b[49m\u001b[43m(\u001b[49m\u001b[43mindex\u001b[49m\u001b[43m)\u001b[49m  \u001b[38;5;66;03m# may raise StopIteration\u001b[39;00m\n\u001b[1;32m    693\u001b[0m     \u001b[38;5;28;01mif\u001b[39;00m \u001b[38;5;28mself\u001b[39m\u001b[38;5;241m.\u001b[39m_pin_memory:\n\u001b[1;32m    694\u001b[0m         data \u001b[38;5;241m=\u001b[39m _utils\u001b[38;5;241m.\u001b[39mpin_memory\u001b[38;5;241m.\u001b[39mpin_memory(data, \u001b[38;5;28mself\u001b[39m\u001b[38;5;241m.\u001b[39m_pin_memory_device)\n",
      "File \u001b[0;32m~/anaconda3/envs/emre_venv/lib/python3.9/site-packages/torch/utils/data/_utils/fetch.py:49\u001b[0m, in \u001b[0;36m_MapDatasetFetcher.fetch\u001b[0;34m(self, possibly_batched_index)\u001b[0m\n\u001b[1;32m     47\u001b[0m \u001b[38;5;28;01mdef\u001b[39;00m \u001b[38;5;21mfetch\u001b[39m(\u001b[38;5;28mself\u001b[39m, possibly_batched_index):\n\u001b[1;32m     48\u001b[0m     \u001b[38;5;28;01mif\u001b[39;00m \u001b[38;5;28mself\u001b[39m\u001b[38;5;241m.\u001b[39mauto_collation:\n\u001b[0;32m---> 49\u001b[0m         data \u001b[38;5;241m=\u001b[39m [\u001b[38;5;28mself\u001b[39m\u001b[38;5;241m.\u001b[39mdataset[idx] \u001b[38;5;28;01mfor\u001b[39;00m idx \u001b[38;5;129;01min\u001b[39;00m possibly_batched_index]\n\u001b[1;32m     50\u001b[0m     \u001b[38;5;28;01melse\u001b[39;00m:\n\u001b[1;32m     51\u001b[0m         data \u001b[38;5;241m=\u001b[39m \u001b[38;5;28mself\u001b[39m\u001b[38;5;241m.\u001b[39mdataset[possibly_batched_index]\n",
      "File \u001b[0;32m~/anaconda3/envs/emre_venv/lib/python3.9/site-packages/torch/utils/data/_utils/fetch.py:49\u001b[0m, in \u001b[0;36m<listcomp>\u001b[0;34m(.0)\u001b[0m\n\u001b[1;32m     47\u001b[0m \u001b[38;5;28;01mdef\u001b[39;00m \u001b[38;5;21mfetch\u001b[39m(\u001b[38;5;28mself\u001b[39m, possibly_batched_index):\n\u001b[1;32m     48\u001b[0m     \u001b[38;5;28;01mif\u001b[39;00m \u001b[38;5;28mself\u001b[39m\u001b[38;5;241m.\u001b[39mauto_collation:\n\u001b[0;32m---> 49\u001b[0m         data \u001b[38;5;241m=\u001b[39m [\u001b[38;5;28;43mself\u001b[39;49m\u001b[38;5;241;43m.\u001b[39;49m\u001b[43mdataset\u001b[49m\u001b[43m[\u001b[49m\u001b[43midx\u001b[49m\u001b[43m]\u001b[49m \u001b[38;5;28;01mfor\u001b[39;00m idx \u001b[38;5;129;01min\u001b[39;00m possibly_batched_index]\n\u001b[1;32m     50\u001b[0m     \u001b[38;5;28;01melse\u001b[39;00m:\n\u001b[1;32m     51\u001b[0m         data \u001b[38;5;241m=\u001b[39m \u001b[38;5;28mself\u001b[39m\u001b[38;5;241m.\u001b[39mdataset[possibly_batched_index]\n",
      "Input \u001b[0;32mIn [12]\u001b[0m, in \u001b[0;36mMyDataset.__getitem__\u001b[0;34m(self, idx)\u001b[0m\n\u001b[1;32m     10\u001b[0m \u001b[38;5;28;01mdef\u001b[39;00m \u001b[38;5;21m__getitem__\u001b[39m(\u001b[38;5;28mself\u001b[39m, idx):\n\u001b[0;32m---> 12\u001b[0m     data \u001b[38;5;241m=\u001b[39m Data(x\u001b[38;5;241m=\u001b[39mtorch\u001b[38;5;241m.\u001b[39mtensor(\u001b[38;5;28;43mself\u001b[39;49m\u001b[38;5;241;43m.\u001b[39;49m\u001b[43mx\u001b[49m\u001b[43m[\u001b[49m\u001b[43midx\u001b[49m\u001b[43m]\u001b[49m\u001b[38;5;241;43m.\u001b[39;49m\u001b[43mreshape\u001b[49m\u001b[43m(\u001b[49m\u001b[38;5;241;43m-\u001b[39;49m\u001b[38;5;241;43m1\u001b[39;49m\u001b[43m,\u001b[49m\u001b[43m \u001b[49m\u001b[38;5;241;43m42\u001b[39;49m\u001b[43m)\u001b[49m\u001b[38;5;241m.\u001b[39mT, dtype\u001b[38;5;241m=\u001b[39mtorch\u001b[38;5;241m.\u001b[39mfloat), y\u001b[38;5;241m=\u001b[39mtorch\u001b[38;5;241m.\u001b[39mtensor(\u001b[38;5;28mself\u001b[39m\u001b[38;5;241m.\u001b[39my[idx], dtype\u001b[38;5;241m=\u001b[39mtorch\u001b[38;5;241m.\u001b[39mlong),\n\u001b[1;32m     13\u001b[0m             edge_index\u001b[38;5;241m=\u001b[39mtorch\u001b[38;5;241m.\u001b[39mtensor(np\u001b[38;5;241m.\u001b[39marray(edges), dtype \u001b[38;5;241m=\u001b[39m torch\u001b[38;5;241m.\u001b[39mlong)\u001b[38;5;241m.\u001b[39mT)\n\u001b[1;32m     14\u001b[0m     \u001b[38;5;28;01mreturn\u001b[39;00m data\n",
      "\u001b[0;31mKeyboardInterrupt\u001b[0m: "
     ]
    }
   ],
   "source": [
    "model_name = 'model_GATConv_skel_imit_acc' # \n",
    "epochs = 1000\n",
    "best_preds = train(model, model_name, prog_bar = False)"
   ]
  },
  {
   "cell_type": "code",
   "execution_count": null,
   "metadata": {
    "scrolled": true
   },
   "outputs": [],
   "source": [
    "acc = np.sum([1 for i in range(len(test_labels)) if test_labels[i] == best_preds[i]]) / len(test_labels) * 100\n",
    "acc"
   ]
  },
  {
   "cell_type": "markdown",
   "metadata": {},
   "source": [
    "## A3TGCN"
   ]
  },
  {
   "cell_type": "code",
   "execution_count": 25,
   "metadata": {},
   "outputs": [],
   "source": [
    "from torch_geometric_temporal.nn.recurrent import A3TGCN"
   ]
  },
  {
   "cell_type": "code",
   "execution_count": 25,
   "metadata": {},
   "outputs": [
    {
     "data": {
      "text/plain": [
       "(1539, 42, 3, 150)"
      ]
     },
     "execution_count": 25,
     "metadata": {},
     "output_type": "execute_result"
    }
   ],
   "source": [
    "train_skels.shape"
   ]
  },
  {
   "cell_type": "code",
   "execution_count": 35,
   "metadata": {},
   "outputs": [],
   "source": [
    "# model to make prediction for the whole graph\n",
    "class A3TGCN_GNN(torch.nn.Module):\n",
    "    def __init__(self):\n",
    "        super().__init__()\n",
    "        self.conv1 = A3TGCN(train_skels.shape[2], 64, periods=train_skels.shape[-1])\n",
    "#         self.conv2 = A3TGCN(64, 128, periods=train_skels.shape[-1])\n",
    "#         self.pool1 = gnn.GlobalAttention(torch.nn.Sequential(torch.nn.Linear(64,1)))\n",
    "#         self.pool1 = gnn.global_add_pool(self.x, self.batch)\n",
    "        self.lin1 = nn.Linear(64, 10)\n",
    "    def forward(self, data):\n",
    "        x, edge_index, batch = data.x, data.edge_index, data.batch\n",
    "#         print('x',x.shape)\n",
    "#         print('batch',batch.shape)\n",
    "        \n",
    "        x = self.conv1(x, edge_index)\n",
    "        x = F.relu(x)\n",
    "        x = F.dropout(x, training=self.training)\n",
    "#         x = self.conv2(x, edge_index)\n",
    "        x = gmp(x, batch)\n",
    "        x = self.lin1(x)\n",
    "#         x = self.pool1(x, batch)\n",
    "    \n",
    "        return F.softmax(x, dim=-1)#.squeeze()"
   ]
  },
  {
   "cell_type": "code",
   "execution_count": 36,
   "metadata": {},
   "outputs": [
    {
     "name": "stdout",
     "output_type": "stream",
     "text": [
      "device: cuda\n"
     ]
    }
   ],
   "source": [
    "device = torch.device('cuda' if torch.cuda.is_available() else 'cpu')\n",
    "model = A3TGCN_GNN().to(device)\n",
    "# summary(model, (150, 1, 128, 128))\n",
    "print('device:', device)\n",
    "criterion = nn.CrossEntropyLoss()\n",
    "optimizer = torch.optim.Adam(model.parameters(), lr=0.001)"
   ]
  },
  {
   "cell_type": "code",
   "execution_count": 37,
   "metadata": {
    "scrolled": false
   },
   "outputs": [
    {
     "name": "stdout",
     "output_type": "stream",
     "text": [
      "Epoch:  60/1000 | Training Acc:  45.22 | Testing Acc:  37.98 , Best Testing Acc: 38.7\n"
     ]
    },
    {
     "data": {
      "image/png": "[encoded data removed]",
      "text/plain": [
       "<Figure size 640x480 with 1 Axes>"
      ]
     },
     "metadata": {},
     "output_type": "display_data"
    },
    {
     "ename": "KeyboardInterrupt",
     "evalue": "",
     "output_type": "error",
     "traceback": [
      "\u001b[0;31m---------------------------------------------------------------------------\u001b[0m",
      "\u001b[0;31mKeyboardInterrupt\u001b[0m                         Traceback (most recent call last)",
      "Input \u001b[0;32mIn [37]\u001b[0m, in \u001b[0;36m<cell line: 3>\u001b[0;34m()\u001b[0m\n\u001b[1;32m      1\u001b[0m model_name \u001b[38;5;241m=\u001b[39m \u001b[38;5;124m'\u001b[39m\u001b[38;5;124mmodel_A3TGCN_skel_imit_acc\u001b[39m\u001b[38;5;124m'\u001b[39m\n\u001b[1;32m      2\u001b[0m epochs \u001b[38;5;241m=\u001b[39m \u001b[38;5;241m1000\u001b[39m\n\u001b[0;32m----> 3\u001b[0m best_preds \u001b[38;5;241m=\u001b[39m \u001b[43mtrain\u001b[49m\u001b[43m(\u001b[49m\u001b[43mmodel\u001b[49m\u001b[43m,\u001b[49m\u001b[43m \u001b[49m\u001b[43mmodel_name\u001b[49m\u001b[43m,\u001b[49m\u001b[43m \u001b[49m\u001b[43mprog_bar\u001b[49m\u001b[43m \u001b[49m\u001b[38;5;241;43m=\u001b[39;49m\u001b[43m \u001b[49m\u001b[38;5;28;43;01mFalse\u001b[39;49;00m\u001b[43m)\u001b[49m\n",
      "Input \u001b[0;32mIn [14]\u001b[0m, in \u001b[0;36mtrain\u001b[0;34m(model, model_name, prog_bar)\u001b[0m\n\u001b[1;32m     18\u001b[0m data \u001b[38;5;241m=\u001b[39m data\u001b[38;5;241m.\u001b[39mto(device)\n\u001b[1;32m     19\u001b[0m optimizer\u001b[38;5;241m.\u001b[39mzero_grad()\n\u001b[0;32m---> 20\u001b[0m out \u001b[38;5;241m=\u001b[39m \u001b[43mmodel\u001b[49m\u001b[43m(\u001b[49m\u001b[43mdata\u001b[49m\u001b[43m)\u001b[49m\n\u001b[1;32m     21\u001b[0m loss \u001b[38;5;241m=\u001b[39m criterion(out, data\u001b[38;5;241m.\u001b[39my)\n\u001b[1;32m     22\u001b[0m loss\u001b[38;5;241m.\u001b[39mbackward()\n",
      "File \u001b[0;32m~/anaconda3/envs/emre_venv/lib/python3.9/site-packages/torch/nn/modules/module.py:1130\u001b[0m, in \u001b[0;36mModule._call_impl\u001b[0;34m(self, *input, **kwargs)\u001b[0m\n\u001b[1;32m   1126\u001b[0m \u001b[38;5;66;03m# If we don't have any hooks, we want to skip the rest of the logic in\u001b[39;00m\n\u001b[1;32m   1127\u001b[0m \u001b[38;5;66;03m# this function, and just call forward.\u001b[39;00m\n\u001b[1;32m   1128\u001b[0m \u001b[38;5;28;01mif\u001b[39;00m \u001b[38;5;129;01mnot\u001b[39;00m (\u001b[38;5;28mself\u001b[39m\u001b[38;5;241m.\u001b[39m_backward_hooks \u001b[38;5;129;01mor\u001b[39;00m \u001b[38;5;28mself\u001b[39m\u001b[38;5;241m.\u001b[39m_forward_hooks \u001b[38;5;129;01mor\u001b[39;00m \u001b[38;5;28mself\u001b[39m\u001b[38;5;241m.\u001b[39m_forward_pre_hooks \u001b[38;5;129;01mor\u001b[39;00m _global_backward_hooks\n\u001b[1;32m   1129\u001b[0m         \u001b[38;5;129;01mor\u001b[39;00m _global_forward_hooks \u001b[38;5;129;01mor\u001b[39;00m _global_forward_pre_hooks):\n\u001b[0;32m-> 1130\u001b[0m     \u001b[38;5;28;01mreturn\u001b[39;00m \u001b[43mforward_call\u001b[49m\u001b[43m(\u001b[49m\u001b[38;5;241;43m*\u001b[39;49m\u001b[38;5;28;43minput\u001b[39;49m\u001b[43m,\u001b[49m\u001b[43m \u001b[49m\u001b[38;5;241;43m*\u001b[39;49m\u001b[38;5;241;43m*\u001b[39;49m\u001b[43mkwargs\u001b[49m\u001b[43m)\u001b[49m\n\u001b[1;32m   1131\u001b[0m \u001b[38;5;66;03m# Do not call functions when jit is used\u001b[39;00m\n\u001b[1;32m   1132\u001b[0m full_backward_hooks, non_full_backward_hooks \u001b[38;5;241m=\u001b[39m [], []\n",
      "Input \u001b[0;32mIn [35]\u001b[0m, in \u001b[0;36mA3TGCN_GNN.forward\u001b[0;34m(self, data)\u001b[0m\n\u001b[1;32m     11\u001b[0m         x, edge_index, batch \u001b[38;5;241m=\u001b[39m data\u001b[38;5;241m.\u001b[39mx, data\u001b[38;5;241m.\u001b[39medge_index, data\u001b[38;5;241m.\u001b[39mbatch\n\u001b[1;32m     12\u001b[0m \u001b[38;5;66;03m#         print('x',x.shape)\u001b[39;00m\n\u001b[1;32m     13\u001b[0m \u001b[38;5;66;03m#         print('batch',batch.shape)\u001b[39;00m\n\u001b[0;32m---> 15\u001b[0m         x \u001b[38;5;241m=\u001b[39m \u001b[38;5;28;43mself\u001b[39;49m\u001b[38;5;241;43m.\u001b[39;49m\u001b[43mconv1\u001b[49m\u001b[43m(\u001b[49m\u001b[43mx\u001b[49m\u001b[43m,\u001b[49m\u001b[43m \u001b[49m\u001b[43medge_index\u001b[49m\u001b[43m)\u001b[49m\n\u001b[1;32m     16\u001b[0m         x \u001b[38;5;241m=\u001b[39m F\u001b[38;5;241m.\u001b[39mrelu(x)\n\u001b[1;32m     17\u001b[0m         x \u001b[38;5;241m=\u001b[39m F\u001b[38;5;241m.\u001b[39mdropout(x, training\u001b[38;5;241m=\u001b[39m\u001b[38;5;28mself\u001b[39m\u001b[38;5;241m.\u001b[39mtraining)\n",
      "File \u001b[0;32m~/anaconda3/envs/emre_venv/lib/python3.9/site-packages/torch/nn/modules/module.py:1130\u001b[0m, in \u001b[0;36mModule._call_impl\u001b[0;34m(self, *input, **kwargs)\u001b[0m\n\u001b[1;32m   1126\u001b[0m \u001b[38;5;66;03m# If we don't have any hooks, we want to skip the rest of the logic in\u001b[39;00m\n\u001b[1;32m   1127\u001b[0m \u001b[38;5;66;03m# this function, and just call forward.\u001b[39;00m\n\u001b[1;32m   1128\u001b[0m \u001b[38;5;28;01mif\u001b[39;00m \u001b[38;5;129;01mnot\u001b[39;00m (\u001b[38;5;28mself\u001b[39m\u001b[38;5;241m.\u001b[39m_backward_hooks \u001b[38;5;129;01mor\u001b[39;00m \u001b[38;5;28mself\u001b[39m\u001b[38;5;241m.\u001b[39m_forward_hooks \u001b[38;5;129;01mor\u001b[39;00m \u001b[38;5;28mself\u001b[39m\u001b[38;5;241m.\u001b[39m_forward_pre_hooks \u001b[38;5;129;01mor\u001b[39;00m _global_backward_hooks\n\u001b[1;32m   1129\u001b[0m         \u001b[38;5;129;01mor\u001b[39;00m _global_forward_hooks \u001b[38;5;129;01mor\u001b[39;00m _global_forward_pre_hooks):\n\u001b[0;32m-> 1130\u001b[0m     \u001b[38;5;28;01mreturn\u001b[39;00m \u001b[43mforward_call\u001b[49m\u001b[43m(\u001b[49m\u001b[38;5;241;43m*\u001b[39;49m\u001b[38;5;28;43minput\u001b[39;49m\u001b[43m,\u001b[49m\u001b[43m \u001b[49m\u001b[38;5;241;43m*\u001b[39;49m\u001b[38;5;241;43m*\u001b[39;49m\u001b[43mkwargs\u001b[49m\u001b[43m)\u001b[49m\n\u001b[1;32m   1131\u001b[0m \u001b[38;5;66;03m# Do not call functions when jit is used\u001b[39;00m\n\u001b[1;32m   1132\u001b[0m full_backward_hooks, non_full_backward_hooks \u001b[38;5;241m=\u001b[39m [], []\n",
      "File \u001b[0;32m~/anaconda3/envs/emre_venv/lib/python3.9/site-packages/torch_geometric_temporal/nn/recurrent/attentiontemporalgcn.py:76\u001b[0m, in \u001b[0;36mA3TGCN.forward\u001b[0;34m(self, X, edge_index, edge_weight, H)\u001b[0m\n\u001b[1;32m     74\u001b[0m probs \u001b[38;5;241m=\u001b[39m torch\u001b[38;5;241m.\u001b[39mnn\u001b[38;5;241m.\u001b[39mfunctional\u001b[38;5;241m.\u001b[39msoftmax(\u001b[38;5;28mself\u001b[39m\u001b[38;5;241m.\u001b[39m_attention, dim\u001b[38;5;241m=\u001b[39m\u001b[38;5;241m0\u001b[39m)\n\u001b[1;32m     75\u001b[0m \u001b[38;5;28;01mfor\u001b[39;00m period \u001b[38;5;129;01min\u001b[39;00m \u001b[38;5;28mrange\u001b[39m(\u001b[38;5;28mself\u001b[39m\u001b[38;5;241m.\u001b[39mperiods):\n\u001b[0;32m---> 76\u001b[0m     H_accum \u001b[38;5;241m=\u001b[39m H_accum \u001b[38;5;241m+\u001b[39m probs[period] \u001b[38;5;241m*\u001b[39m \u001b[38;5;28;43mself\u001b[39;49m\u001b[38;5;241;43m.\u001b[39;49m\u001b[43m_base_tgcn\u001b[49m\u001b[43m(\u001b[49m\n\u001b[1;32m     77\u001b[0m \u001b[43m        \u001b[49m\u001b[43mX\u001b[49m\u001b[43m[\u001b[49m\u001b[43m:\u001b[49m\u001b[43m,\u001b[49m\u001b[43m \u001b[49m\u001b[43m:\u001b[49m\u001b[43m,\u001b[49m\u001b[43m \u001b[49m\u001b[43mperiod\u001b[49m\u001b[43m]\u001b[49m\u001b[43m,\u001b[49m\u001b[43m \u001b[49m\u001b[43medge_index\u001b[49m\u001b[43m,\u001b[49m\u001b[43m \u001b[49m\u001b[43medge_weight\u001b[49m\u001b[43m,\u001b[49m\u001b[43m \u001b[49m\u001b[43mH\u001b[49m\n\u001b[1;32m     78\u001b[0m \u001b[43m    \u001b[49m\u001b[43m)\u001b[49m\n\u001b[1;32m     79\u001b[0m \u001b[38;5;28;01mreturn\u001b[39;00m H_accum\n",
      "File \u001b[0;32m~/anaconda3/envs/emre_venv/lib/python3.9/site-packages/torch/nn/modules/module.py:1130\u001b[0m, in \u001b[0;36mModule._call_impl\u001b[0;34m(self, *input, **kwargs)\u001b[0m\n\u001b[1;32m   1126\u001b[0m \u001b[38;5;66;03m# If we don't have any hooks, we want to skip the rest of the logic in\u001b[39;00m\n\u001b[1;32m   1127\u001b[0m \u001b[38;5;66;03m# this function, and just call forward.\u001b[39;00m\n\u001b[1;32m   1128\u001b[0m \u001b[38;5;28;01mif\u001b[39;00m \u001b[38;5;129;01mnot\u001b[39;00m (\u001b[38;5;28mself\u001b[39m\u001b[38;5;241m.\u001b[39m_backward_hooks \u001b[38;5;129;01mor\u001b[39;00m \u001b[38;5;28mself\u001b[39m\u001b[38;5;241m.\u001b[39m_forward_hooks \u001b[38;5;129;01mor\u001b[39;00m \u001b[38;5;28mself\u001b[39m\u001b[38;5;241m.\u001b[39m_forward_pre_hooks \u001b[38;5;129;01mor\u001b[39;00m _global_backward_hooks\n\u001b[1;32m   1129\u001b[0m         \u001b[38;5;129;01mor\u001b[39;00m _global_forward_hooks \u001b[38;5;129;01mor\u001b[39;00m _global_forward_pre_hooks):\n\u001b[0;32m-> 1130\u001b[0m     \u001b[38;5;28;01mreturn\u001b[39;00m \u001b[43mforward_call\u001b[49m\u001b[43m(\u001b[49m\u001b[38;5;241;43m*\u001b[39;49m\u001b[38;5;28;43minput\u001b[39;49m\u001b[43m,\u001b[49m\u001b[43m \u001b[49m\u001b[38;5;241;43m*\u001b[39;49m\u001b[38;5;241;43m*\u001b[39;49m\u001b[43mkwargs\u001b[49m\u001b[43m)\u001b[49m\n\u001b[1;32m   1131\u001b[0m \u001b[38;5;66;03m# Do not call functions when jit is used\u001b[39;00m\n\u001b[1;32m   1132\u001b[0m full_backward_hooks, non_full_backward_hooks \u001b[38;5;241m=\u001b[39m [], []\n",
      "File \u001b[0;32m~/anaconda3/envs/emre_venv/lib/python3.9/site-packages/torch_geometric_temporal/nn/recurrent/temporalgcn.py:127\u001b[0m, in \u001b[0;36mTGCN.forward\u001b[0;34m(self, X, edge_index, edge_weight, H)\u001b[0m\n\u001b[1;32m    125\u001b[0m H \u001b[38;5;241m=\u001b[39m \u001b[38;5;28mself\u001b[39m\u001b[38;5;241m.\u001b[39m_set_hidden_state(X, H)\n\u001b[1;32m    126\u001b[0m Z \u001b[38;5;241m=\u001b[39m \u001b[38;5;28mself\u001b[39m\u001b[38;5;241m.\u001b[39m_calculate_update_gate(X, edge_index, edge_weight, H)\n\u001b[0;32m--> 127\u001b[0m R \u001b[38;5;241m=\u001b[39m \u001b[38;5;28;43mself\u001b[39;49m\u001b[38;5;241;43m.\u001b[39;49m\u001b[43m_calculate_reset_gate\u001b[49m\u001b[43m(\u001b[49m\u001b[43mX\u001b[49m\u001b[43m,\u001b[49m\u001b[43m \u001b[49m\u001b[43medge_index\u001b[49m\u001b[43m,\u001b[49m\u001b[43m \u001b[49m\u001b[43medge_weight\u001b[49m\u001b[43m,\u001b[49m\u001b[43m \u001b[49m\u001b[43mH\u001b[49m\u001b[43m)\u001b[49m\n\u001b[1;32m    128\u001b[0m H_tilde \u001b[38;5;241m=\u001b[39m \u001b[38;5;28mself\u001b[39m\u001b[38;5;241m.\u001b[39m_calculate_candidate_state(X, edge_index, edge_weight, H, R)\n\u001b[1;32m    129\u001b[0m H \u001b[38;5;241m=\u001b[39m \u001b[38;5;28mself\u001b[39m\u001b[38;5;241m.\u001b[39m_calculate_hidden_state(Z, H, H_tilde)\n",
      "File \u001b[0;32m~/anaconda3/envs/emre_venv/lib/python3.9/site-packages/torch_geometric_temporal/nn/recurrent/temporalgcn.py:89\u001b[0m, in \u001b[0;36mTGCN._calculate_reset_gate\u001b[0;34m(self, X, edge_index, edge_weight, H)\u001b[0m\n\u001b[1;32m     88\u001b[0m \u001b[38;5;28;01mdef\u001b[39;00m \u001b[38;5;21m_calculate_reset_gate\u001b[39m(\u001b[38;5;28mself\u001b[39m, X, edge_index, edge_weight, H):\n\u001b[0;32m---> 89\u001b[0m     R \u001b[38;5;241m=\u001b[39m torch\u001b[38;5;241m.\u001b[39mcat([\u001b[38;5;28;43mself\u001b[39;49m\u001b[38;5;241;43m.\u001b[39;49m\u001b[43mconv_r\u001b[49m\u001b[43m(\u001b[49m\u001b[43mX\u001b[49m\u001b[43m,\u001b[49m\u001b[43m \u001b[49m\u001b[43medge_index\u001b[49m\u001b[43m,\u001b[49m\u001b[43m \u001b[49m\u001b[43medge_weight\u001b[49m\u001b[43m)\u001b[49m, H], axis\u001b[38;5;241m=\u001b[39m\u001b[38;5;241m1\u001b[39m)\n\u001b[1;32m     90\u001b[0m     R \u001b[38;5;241m=\u001b[39m \u001b[38;5;28mself\u001b[39m\u001b[38;5;241m.\u001b[39mlinear_r(R)\n\u001b[1;32m     91\u001b[0m     R \u001b[38;5;241m=\u001b[39m torch\u001b[38;5;241m.\u001b[39msigmoid(R)\n",
      "File \u001b[0;32m~/anaconda3/envs/emre_venv/lib/python3.9/site-packages/torch/nn/modules/module.py:1130\u001b[0m, in \u001b[0;36mModule._call_impl\u001b[0;34m(self, *input, **kwargs)\u001b[0m\n\u001b[1;32m   1126\u001b[0m \u001b[38;5;66;03m# If we don't have any hooks, we want to skip the rest of the logic in\u001b[39;00m\n\u001b[1;32m   1127\u001b[0m \u001b[38;5;66;03m# this function, and just call forward.\u001b[39;00m\n\u001b[1;32m   1128\u001b[0m \u001b[38;5;28;01mif\u001b[39;00m \u001b[38;5;129;01mnot\u001b[39;00m (\u001b[38;5;28mself\u001b[39m\u001b[38;5;241m.\u001b[39m_backward_hooks \u001b[38;5;129;01mor\u001b[39;00m \u001b[38;5;28mself\u001b[39m\u001b[38;5;241m.\u001b[39m_forward_hooks \u001b[38;5;129;01mor\u001b[39;00m \u001b[38;5;28mself\u001b[39m\u001b[38;5;241m.\u001b[39m_forward_pre_hooks \u001b[38;5;129;01mor\u001b[39;00m _global_backward_hooks\n\u001b[1;32m   1129\u001b[0m         \u001b[38;5;129;01mor\u001b[39;00m _global_forward_hooks \u001b[38;5;129;01mor\u001b[39;00m _global_forward_pre_hooks):\n\u001b[0;32m-> 1130\u001b[0m     \u001b[38;5;28;01mreturn\u001b[39;00m \u001b[43mforward_call\u001b[49m\u001b[43m(\u001b[49m\u001b[38;5;241;43m*\u001b[39;49m\u001b[38;5;28;43minput\u001b[39;49m\u001b[43m,\u001b[49m\u001b[43m \u001b[49m\u001b[38;5;241;43m*\u001b[39;49m\u001b[38;5;241;43m*\u001b[39;49m\u001b[43mkwargs\u001b[49m\u001b[43m)\u001b[49m\n\u001b[1;32m   1131\u001b[0m \u001b[38;5;66;03m# Do not call functions when jit is used\u001b[39;00m\n\u001b[1;32m   1132\u001b[0m full_backward_hooks, non_full_backward_hooks \u001b[38;5;241m=\u001b[39m [], []\n",
      "File \u001b[0;32m~/anaconda3/envs/emre_venv/lib/python3.9/site-packages/torch_geometric/nn/conv/gcn_conv.py:175\u001b[0m, in \u001b[0;36mGCNConv.forward\u001b[0;34m(self, x, edge_index, edge_weight)\u001b[0m\n\u001b[1;32m    173\u001b[0m cache \u001b[38;5;241m=\u001b[39m \u001b[38;5;28mself\u001b[39m\u001b[38;5;241m.\u001b[39m_cached_edge_index\n\u001b[1;32m    174\u001b[0m \u001b[38;5;28;01mif\u001b[39;00m cache \u001b[38;5;129;01mis\u001b[39;00m \u001b[38;5;28;01mNone\u001b[39;00m:\n\u001b[0;32m--> 175\u001b[0m     edge_index, edge_weight \u001b[38;5;241m=\u001b[39m \u001b[43mgcn_norm\u001b[49m\u001b[43m(\u001b[49m\u001b[43m  \u001b[49m\u001b[38;5;66;43;03m# yapf: disable\u001b[39;49;00m\n\u001b[1;32m    176\u001b[0m \u001b[43m        \u001b[49m\u001b[43medge_index\u001b[49m\u001b[43m,\u001b[49m\u001b[43m \u001b[49m\u001b[43medge_weight\u001b[49m\u001b[43m,\u001b[49m\u001b[43m \u001b[49m\u001b[43mx\u001b[49m\u001b[38;5;241;43m.\u001b[39;49m\u001b[43msize\u001b[49m\u001b[43m(\u001b[49m\u001b[38;5;28;43mself\u001b[39;49m\u001b[38;5;241;43m.\u001b[39;49m\u001b[43mnode_dim\u001b[49m\u001b[43m)\u001b[49m\u001b[43m,\u001b[49m\n\u001b[1;32m    177\u001b[0m \u001b[43m        \u001b[49m\u001b[38;5;28;43mself\u001b[39;49m\u001b[38;5;241;43m.\u001b[39;49m\u001b[43mimproved\u001b[49m\u001b[43m,\u001b[49m\u001b[43m \u001b[49m\u001b[38;5;28;43mself\u001b[39;49m\u001b[38;5;241;43m.\u001b[39;49m\u001b[43madd_self_loops\u001b[49m\u001b[43m,\u001b[49m\u001b[43m \u001b[49m\u001b[38;5;28;43mself\u001b[39;49m\u001b[38;5;241;43m.\u001b[39;49m\u001b[43mflow\u001b[49m\u001b[43m)\u001b[49m\n\u001b[1;32m    178\u001b[0m     \u001b[38;5;28;01mif\u001b[39;00m \u001b[38;5;28mself\u001b[39m\u001b[38;5;241m.\u001b[39mcached:\n\u001b[1;32m    179\u001b[0m         \u001b[38;5;28mself\u001b[39m\u001b[38;5;241m.\u001b[39m_cached_edge_index \u001b[38;5;241m=\u001b[39m (edge_index, edge_weight)\n",
      "File \u001b[0;32m~/anaconda3/envs/emre_venv/lib/python3.9/site-packages/torch_geometric/nn/conv/gcn_conv.py:69\u001b[0m, in \u001b[0;36mgcn_norm\u001b[0;34m(edge_index, edge_weight, num_nodes, improved, add_self_loops, flow, dtype)\u001b[0m\n\u001b[1;32m     67\u001b[0m deg \u001b[38;5;241m=\u001b[39m scatter_add(edge_weight, idx, dim\u001b[38;5;241m=\u001b[39m\u001b[38;5;241m0\u001b[39m, dim_size\u001b[38;5;241m=\u001b[39mnum_nodes)\n\u001b[1;32m     68\u001b[0m deg_inv_sqrt \u001b[38;5;241m=\u001b[39m deg\u001b[38;5;241m.\u001b[39mpow_(\u001b[38;5;241m-\u001b[39m\u001b[38;5;241m0.5\u001b[39m)\n\u001b[0;32m---> 69\u001b[0m \u001b[43mdeg_inv_sqrt\u001b[49m\u001b[38;5;241;43m.\u001b[39;49m\u001b[43mmasked_fill_\u001b[49m\u001b[43m(\u001b[49m\u001b[43mdeg_inv_sqrt\u001b[49m\u001b[43m \u001b[49m\u001b[38;5;241;43m==\u001b[39;49m\u001b[43m \u001b[49m\u001b[38;5;28;43mfloat\u001b[39;49m\u001b[43m(\u001b[49m\u001b[38;5;124;43m'\u001b[39;49m\u001b[38;5;124;43minf\u001b[39;49m\u001b[38;5;124;43m'\u001b[39;49m\u001b[43m)\u001b[49m\u001b[43m,\u001b[49m\u001b[43m \u001b[49m\u001b[38;5;241;43m0\u001b[39;49m\u001b[43m)\u001b[49m\n\u001b[1;32m     70\u001b[0m \u001b[38;5;28;01mreturn\u001b[39;00m edge_index, deg_inv_sqrt[row] \u001b[38;5;241m*\u001b[39m edge_weight \u001b[38;5;241m*\u001b[39m deg_inv_sqrt[col]\n",
      "\u001b[0;31mKeyboardInterrupt\u001b[0m: "
     ]
    }
   ],
   "source": [
    "model_name = 'model_A3TGCN_skel_imit_acc'\n",
    "epochs = 1000\n",
    "best_preds = train(model, model_name, prog_bar = False)"
   ]
  },
  {
   "cell_type": "code",
   "execution_count": null,
   "metadata": {
    "scrolled": true
   },
   "outputs": [],
   "source": [
    "acc = np.sum([1 for i in range(len(test_labels)) if test_labels[i] == best_preds[i]]) / len(test_labels) * 100\n",
    "acc"
   ]
  },
  {
   "cell_type": "code",
   "execution_count": null,
   "metadata": {},
   "outputs": [],
   "source": []
  },
  {
   "cell_type": "code",
   "execution_count": null,
   "metadata": {},
   "outputs": [],
   "source": []
  },
  {
   "cell_type": "code",
   "execution_count": null,
   "metadata": {},
   "outputs": [],
   "source": []
  },
  {
   "cell_type": "code",
   "execution_count": null,
   "metadata": {},
   "outputs": [],
   "source": []
  },
  {
   "cell_type": "code",
   "execution_count": null,
   "metadata": {},
   "outputs": [],
   "source": []
  },
  {
   "cell_type": "code",
   "execution_count": null,
   "metadata": {},
   "outputs": [],
   "source": []
  },
  {
   "cell_type": "code",
   "execution_count": null,
   "metadata": {},
   "outputs": [],
   "source": []
  },
  {
   "cell_type": "code",
   "execution_count": null,
   "metadata": {},
   "outputs": [],
   "source": []
  },
  {
   "cell_type": "code",
   "execution_count": null,
   "metadata": {},
   "outputs": [],
   "source": []
  },
  {
   "cell_type": "code",
   "execution_count": null,
   "metadata": {},
   "outputs": [],
   "source": []
  }
 ],
 "metadata": {
  "kernelspec": {
   "display_name": "Python 3",
   "language": "python",
   "name": "python3"
  },
  "language_info": {
   "codemirror_mode": {
    "name": "ipython",
    "version": 3
   },
   "file_extension": ".py",
   "mimetype": "text/x-python",
   "name": "python",
   "nbconvert_exporter": "python",
   "pygments_lexer": "ipython3",
   "version": "3.9.13"
  }
 },
 "nbformat": 4,
 "nbformat_minor": 2
}
