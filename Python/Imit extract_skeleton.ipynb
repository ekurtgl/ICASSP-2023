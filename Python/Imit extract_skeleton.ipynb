{
 "cells": [
  {
   "cell_type": "code",
   "execution_count": 1,
   "metadata": {},
   "outputs": [],
   "source": [
    "import sys\n",
    "import cv2\n",
    "import mediapipe as mp\n",
    "import glob\n",
    "import numpy as np\n",
    "import json\n",
    "import os\n",
    "import time\n",
    "from os.path import exists"
   ]
  },
  {
   "cell_type": "code",
   "execution_count": 2,
   "metadata": {},
   "outputs": [],
   "source": [
    "datapath = '/mnt/HDD04/ASL_10_imit/outputs/webcam/cut/'\n",
    "# vid_savepath = '/mnt/HDD04/ICASSP_2023/Data/annotated_videos/'\n",
    "annot_path = datapath.replace('webcam/cut', 'annotated_images')\n",
    "skelpath = annot_path.replace('annotated_images', 'skeletons')\n",
    "frame_path = skelpath.replace('skeletons', 'images')"
   ]
  },
  {
   "cell_type": "code",
   "execution_count": 3,
   "metadata": {},
   "outputs": [
    {
     "name": "stdout",
     "output_type": "stream",
     "text": [
      "Num files present: 1924\n",
      "/mnt/HDD04/ASL_10_imit/outputs/webcam/cut/2022_10_13_16_12_38_subjEmre_Exp0_class128_part4_word128_cnt4.avi\n"
     ]
    }
   ],
   "source": [
    "files = glob.glob(datapath + '*avi')\n",
    "print('Num files present:', len(files))\n",
    "print(files[0])"
   ]
  },
  {
   "cell_type": "code",
   "execution_count": 4,
   "metadata": {},
   "outputs": [],
   "source": [
    "mp_drawing = mp.solutions.drawing_utils\n",
    "mp_drawing_styles = mp.solutions.drawing_styles\n",
    "mp_hands = mp.solutions.hands"
   ]
  },
  {
   "cell_type": "code",
   "execution_count": 5,
   "metadata": {},
   "outputs": [
    {
     "data": {
      "text/plain": [
       "'/mnt/HDD04/ASL_10_imit/outputs/webcam/cut/2022_10_13_16_12_38_subjEmre_Exp0_class128_part4_word128_cnt4.avi'"
      ]
     },
     "execution_count": 5,
     "metadata": {},
     "output_type": "execute_result"
    }
   ],
   "source": [
    "f = files[0]\n",
    "fname = f.split('/')[-1]\n",
    "datapath + fname"
   ]
  },
  {
   "cell_type": "code",
   "execution_count": 6,
   "metadata": {},
   "outputs": [
    {
     "name": "stdout",
     "output_type": "stream",
     "text": [
      "Processing file 1/1924\n",
      "/mnt/HDD04/ASL_10_imit/outputs/skeletons/2022_10_13_16_12_38_subjEmre_Exp0_class128_part4_word128_cnt4\n"
     ]
    }
   ],
   "source": [
    "# extract skeleton\n",
    "start_time = time.time()\n",
    "cnt = 0\n",
    "for f in files:\n",
    "    fname = f.split('/')[-1]\n",
    "\n",
    "    cnt += 1\n",
    "    now = time.time()\n",
    "    print('Processing file ' + str(cnt) + '/' + str(len(files)))\n",
    "    cap = cv2.VideoCapture(datapath + fname)\n",
    "    fps = cap.get(cv2.CAP_PROP_FPS)\n",
    "    start_frame = 0\n",
    "    end_frame = int(cap.get(cv2.CAP_PROP_FRAME_COUNT)) - 1\n",
    "    subfolder_frame = frame_path + fname[:-4]\n",
    "          \n",
    "    if not exists(subfolder_frame):\n",
    "        os.mkdir(subfolder_frame)\n",
    "        # extract frames\n",
    "#             for frame_no in range(start_frame, end_frame + 1):\n",
    "        for frame_no in range(start_frame, end_frame + 1):\n",
    "            cap.set(1,frame_no)  # Where frame_no is the frame you want\n",
    "            ret, frame = cap.read()  # Read the frame\n",
    "#                     frame = frame[bbox[1]:bbox[3], bbox[0]:bbox[2]]\n",
    "            cv2.imwrite(subfolder_frame + '/' + fname[:-4] + '_frame' + f'{frame_no:05d}' + '.jpg', frame)\n",
    "\n",
    "    # MediaPipe\n",
    "    subfolder_skel = skelpath + fname.split('/')[-1][:-4]\n",
    "    print(subfolder_skel)\n",
    "    break\n",
    "    if not exists(subfolder_skel):\n",
    "        os.mkdir(subfolder_skel)\n",
    "        IMAGE_FILES = sorted(glob.glob(subfolder_frame + '/*jpg'))\n",
    "        with mp_hands.Hands(\n",
    "            static_image_mode=True,\n",
    "            max_num_hands=2,\n",
    "            min_detection_confidence=0.5) as hands:\n",
    "\n",
    "            image = cv2.flip(cv2.imread(IMAGE_FILES[0]), 1)\n",
    "            fname2 = IMAGE_FILES[0].split('/')[-1]\n",
    "            prev_results = hands.process(cv2.cvtColor(image, cv2.COLOR_BGR2RGB))\n",
    "\n",
    "            for idx, file in enumerate(IMAGE_FILES):\n",
    "                # Read an image, flip it around y-axis for correct handedness output (see\n",
    "                # above).\n",
    "                image = cv2.flip(cv2.imread(file), 1)\n",
    "                fname2 = file.split('/')[-1]\n",
    "                # Convert the BGR image to RGB before processing.\n",
    "                results = hands.process(cv2.cvtColor(image, cv2.COLOR_BGR2RGB))\n",
    "\n",
    "                # Print handedness and draw hand landmarks on the image.\n",
    "#                     print('Frame: ', idx, '/', len(IMAGE_FILES))\n",
    "                # print('Handedness:', results.multi_handedness)\n",
    "                if not results.multi_hand_landmarks:\n",
    "                    if not prev_results.multi_hand_landmarks:\n",
    "                        continue\n",
    "                    else:\n",
    "                        results = prev_results  # to prevent frame elimination due to non-existent hands\n",
    "                prev_results = results\n",
    "                image_height, image_width, _ = image.shape\n",
    "                annotated_image = image.copy()\n",
    "                data = []\n",
    "\n",
    "                for hand_id, hand_landmarks in enumerate(results.multi_hand_landmarks):\n",
    "\n",
    "\n",
    "                  # print('hand_landmarks:', hand_landmarks)\n",
    "                  # print(\n",
    "                  #     f'Index finger tip coordinates: (',\n",
    "                  #     f'{hand_landmarks.landmark[mp_hands.HandLandmark.INDEX_FINGER_TIP].x * image_width}, '\n",
    "                  #     f'{hand_landmarks.landmark[mp_hands.HandLandmark.INDEX_FINGER_TIP].y * image_height})'\n",
    "                  # )\n",
    "                  # print(dir(hand_landmarks.landmark[0]))\n",
    "                  # print(hand_landmarks.landmark[0])\n",
    "                  # print(hand_landmarks.landmark[0].x)\n",
    "\n",
    "                    for land_id, mark in enumerate(hand_landmarks.landmark):\n",
    "\n",
    "                        if land_id == 0:\n",
    "                            x_temp = [mark.x]\n",
    "                            y_temp = [mark.y]\n",
    "                            z_temp = [mark.z]\n",
    "                        else:\n",
    "                            x_temp = np.concatenate((x_temp, [mark.x]), 0)\n",
    "                            y_temp = np.concatenate((y_temp, [mark.y]), 0)\n",
    "                            z_temp = np.concatenate((z_temp, [mark.z]), 0)\n",
    "\n",
    "                    data.append(x_temp)\n",
    "                    data.append(y_temp)\n",
    "                    data.append(z_temp)\n",
    "                    mp_drawing.draw_landmarks(\n",
    "                          annotated_image,\n",
    "                          hand_landmarks,\n",
    "                          mp_hands.HAND_CONNECTIONS,\n",
    "                          mp_drawing_styles.get_default_hand_landmarks_style(),\n",
    "                          mp_drawing_styles.get_default_hand_connections_style())\n",
    "\n",
    "\n",
    "                with open(subfolder_skel + '/' + fname2.replace('jpg', 'txt'), 'w') as f:\n",
    "                    for elem in data:\n",
    "                        for e in elem:\n",
    "                            f.write(str(e) + ' ')\n",
    "                        f.write('\\n')\n",
    "                subfolder_im = annot_path + fname[:-4]\n",
    "                if not exists(subfolder_im):\n",
    "                    os.mkdir(subfolder_im)\n",
    "                cv2.imwrite(subfolder_im + '/' + fname2.replace('jpg', 'png'), cv2.flip(annotated_image, 1))\n",
    "\n",
    "            # create video\n",
    "#                     files = sorted(glob.glob(subfolder_im + '/*png'))\n",
    "#                     frame = cv2.imread(files[0])\n",
    "#                     height, width, layers = frame.shape\n",
    "#                     video_name = vid_savepath + fname.split('/')[-1][:-4] + '.avi'\n",
    "#                     video = cv2.VideoWriter(video_name, 0, fps, (width, height))\n",
    "#                     for image in files:\n",
    "#                         video.write(cv2.imread(image))\n",
    "#                     video.release()\n",
    "\n",
    "    print('Elapsed time:', time.time() - now, 'sec')\n",
    "    print('Num. processed file:' + str(cnt) + '/' + str(len(files)))\n",
    "    print('Total Elapsed time:', (time.time() - start_time)/60, ' min')\n",
    "\n",
    "#             if j == 4:\n",
    "#                 break\n",
    "#             break\n",
    "\n",
    "#     break\n"
   ]
  },
  {
   "cell_type": "code",
   "execution_count": null,
   "metadata": {},
   "outputs": [],
   "source": []
  },
  {
   "cell_type": "code",
   "execution_count": null,
   "metadata": {},
   "outputs": [],
   "source": []
  },
  {
   "cell_type": "code",
   "execution_count": null,
   "metadata": {},
   "outputs": [],
   "source": []
  },
  {
   "cell_type": "code",
   "execution_count": null,
   "metadata": {},
   "outputs": [],
   "source": []
  },
  {
   "cell_type": "code",
   "execution_count": null,
   "metadata": {},
   "outputs": [],
   "source": []
  },
  {
   "cell_type": "code",
   "execution_count": null,
   "metadata": {},
   "outputs": [],
   "source": []
  },
  {
   "cell_type": "code",
   "execution_count": null,
   "metadata": {},
   "outputs": [],
   "source": []
  },
  {
   "cell_type": "code",
   "execution_count": null,
   "metadata": {},
   "outputs": [],
   "source": []
  },
  {
   "cell_type": "code",
   "execution_count": null,
   "metadata": {},
   "outputs": [],
   "source": []
  },
  {
   "cell_type": "code",
   "execution_count": null,
   "metadata": {},
   "outputs": [],
   "source": []
  }
 ],
 "metadata": {
  "kernelspec": {
   "display_name": "Python 3",
   "language": "python",
   "name": "python3"
  },
  "language_info": {
   "codemirror_mode": {
    "name": "ipython",
    "version": 3
   },
   "file_extension": ".py",
   "mimetype": "text/x-python",
   "name": "python",
   "nbconvert_exporter": "python",
   "pygments_lexer": "ipython3",
   "version": "3.9.13"
  }
 },
 "nbformat": 4,
 "nbformat_minor": 2
}
