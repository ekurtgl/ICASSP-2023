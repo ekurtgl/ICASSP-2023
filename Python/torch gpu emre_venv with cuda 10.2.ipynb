{
 "cells": [
  {
   "cell_type": "code",
   "execution_count": 16,
   "id": "c3c9c9e1",
   "metadata": {
    "scrolled": true
   },
   "outputs": [
    {
     "name": "stdout",
     "output_type": "stream",
     "text": [
      "Found existing installation: torch 1.7.1+cu92\n",
      "Uninstalling torch-1.7.1+cu92:\n",
      "  Successfully uninstalled torch-1.7.1+cu92\n",
      "\u001b[33mWARNING: Skipping torch as it is not installed.\u001b[0m\u001b[33m\n",
      "\u001b[0m\u001b[33mWARNING: Skipping torch-scatter as it is not installed.\u001b[0m\u001b[33m\n",
      "\u001b[0m\u001b[33mWARNING: Skipping torch-sparse as it is not installed.\u001b[0m\u001b[33m\n",
      "\u001b[0mFound existing installation: torchvision 0.8.2+cu92\n",
      "Uninstalling torchvision-0.8.2+cu92:\n",
      "  Successfully uninstalled torchvision-0.8.2+cu92\n",
      "Found existing installation: torchaudio 0.7.2\n",
      "Uninstalling torchaudio-0.7.2:\n",
      "  Successfully uninstalled torchaudio-0.7.2\n",
      "\u001b[33mWARNING: Skipping torch-spline-con as it is not installed.\u001b[0m\u001b[33m\n",
      "\u001b[0m\u001b[33mWARNING: Skipping torch-cluster as it is not installed.\u001b[0m\u001b[33m\n",
      "\u001b[0m\u001b[33mWARNING: Skipping torch-geometric as it is not installed.\u001b[0m\u001b[33m\n",
      "\u001b[0m"
     ]
    }
   ],
   "source": [
    "!pip uninstall torch -y\n",
    "!pip uninstall torch -y # run this command twice\n",
    "!pip uninstall torch-scatter -y\n",
    "!pip uninstall torch-sparse -y\n",
    "!pip uninstall torchvision -y\n",
    "!pip uninstall torchaudio -y\n",
    "!pip uninstall torch-spline-con -y\n",
    "!pip uninstall torch-cluster -y\n",
    "!pip uninstall torch-geometric -y"
   ]
  },
  {
   "cell_type": "code",
   "execution_count": 17,
   "id": "aff00db1",
   "metadata": {},
   "outputs": [
    {
     "name": "stdout",
     "output_type": "stream",
     "text": [
      "Looking in links: https://download.pytorch.org/whl/torch_stable.html\n",
      "Collecting torch==1.12.0+cu102\n",
      "  Downloading https://download.pytorch.org/whl/cu102/torch-1.12.0%2Bcu102-cp39-cp39-linux_x86_64.whl (776.3 MB)\n",
      "\u001b[2K     \u001b[38;2;114;156;31m━━━━━━━━━━━━━━━━━━━━━━━━━━━━━━━━━━━━━━━\u001b[0m \u001b[32m776.3/776.3 MB\u001b[0m \u001b[31m2.8 MB/s\u001b[0m eta \u001b[36m0:00:00\u001b[0mm eta \u001b[36m0:00:01\u001b[0m[36m0:00:02\u001b[0m\n",
      "\u001b[?25hCollecting torchvision==0.13.0+cu102\n",
      "  Downloading https://download.pytorch.org/whl/cu102/torchvision-0.13.0%2Bcu102-cp39-cp39-linux_x86_64.whl (19.1 MB)\n",
      "\u001b[2K     \u001b[38;2;114;156;31m━━━━━━━━━━━━━━━━━━━━━━━━━━━━━━━━━━━━━━━━\u001b[0m \u001b[32m19.1/19.1 MB\u001b[0m \u001b[31m41.4 MB/s\u001b[0m eta \u001b[36m0:00:00\u001b[0mm eta \u001b[36m0:00:01\u001b[0m0:01\u001b[0m:01\u001b[0m\n",
      "\u001b[?25hCollecting torchaudio==0.12.0\n",
      "  Downloading https://download.pytorch.org/whl/rocm5.1.1/torchaudio-0.12.0%2Brocm5.1.1-cp39-cp39-linux_x86_64.whl (3.5 MB)\n",
      "\u001b[2K     \u001b[38;2;114;156;31m━━━━━━━━━━━━━━━━━━━━━━━━━━━━━━━━━━━━━━━━\u001b[0m \u001b[32m3.5/3.5 MB\u001b[0m \u001b[31m23.5 MB/s\u001b[0m eta \u001b[36m0:00:00\u001b[0mm eta \u001b[36m0:00:01\u001b[0m[36m0:00:01\u001b[0m\n",
      "\u001b[?25hRequirement already satisfied: typing-extensions in /home/emre/anaconda3/envs/emre_venv/lib/python3.9/site-packages (from torch==1.12.0+cu102) (4.3.0)\n",
      "Requirement already satisfied: numpy in /home/emre/anaconda3/envs/emre_venv/lib/python3.9/site-packages (from torchvision==0.13.0+cu102) (1.23.3)\n",
      "Requirement already satisfied: pillow!=8.3.*,>=5.3.0 in /home/emre/anaconda3/envs/emre_venv/lib/python3.9/site-packages (from torchvision==0.13.0+cu102) (9.2.0)\n",
      "Collecting requests\n",
      "  Using cached requests-2.28.1-py3-none-any.whl (62 kB)\n",
      "Collecting idna<4,>=2.5\n",
      "  Using cached idna-3.4-py3-none-any.whl (61 kB)\n",
      "Collecting charset-normalizer<3,>=2\n",
      "  Using cached charset_normalizer-2.1.1-py3-none-any.whl (39 kB)\n",
      "Requirement already satisfied: urllib3<1.27,>=1.21.1 in /home/emre/anaconda3/envs/emre_venv/lib/python3.9/site-packages (from requests->torchvision==0.13.0+cu102) (1.26.12)\n",
      "Requirement already satisfied: certifi>=2017.4.17 in /home/emre/anaconda3/envs/emre_venv/lib/python3.9/site-packages (from requests->torchvision==0.13.0+cu102) (2022.9.24)\n",
      "Installing collected packages: torch, idna, charset-normalizer, torchaudio, requests, torchvision\n",
      "Successfully installed charset-normalizer-2.1.1 idna-3.4 requests-2.28.1 torch-1.12.0+cu102 torchaudio-0.12.0+rocm5.1.1 torchvision-0.13.0+cu102\n"
     ]
    }
   ],
   "source": [
    "# !pip install torch==1.9.0+cu111 torchvision==0.10.0+cu111 torchaudio==0.9.0 -f https://download.pytorch.org/whl/torch_stable.html\n",
    "# !pip install torch==1.7.1+cu92 torchvision==0.8.2+cu92 torchaudio==0.7.2 -f https://download.pytorch.org/whl/torch_stable.html\n",
    "!pip install torch==1.12.0+cu102 torchvision==0.13.0+cu102 torchaudio==0.12.0 -f https://download.pytorch.org/whl/torch_stable.html\n",
    "# !pip install torch==1.1.0 torchvision==0.3.0 -f https://download.pytorch.org/whl/cu90/torch_stable.html"
   ]
  },
  {
   "cell_type": "code",
   "execution_count": 18,
   "id": "f1b66c4f",
   "metadata": {
    "scrolled": true
   },
   "outputs": [
    {
     "name": "stdout",
     "output_type": "stream",
     "text": [
      "Looking in links: https://data.pyg.org/whl/torch-1.12.0+cu102.html\n",
      "Collecting torch-scatter\n",
      "  Downloading https://data.pyg.org/whl/torch-1.12.0%2Bcu102/torch_scatter-2.0.9-cp39-cp39-linux_x86_64.whl (8.0 MB)\n",
      "\u001b[2K     \u001b[38;2;114;156;31m━━━━━━━━━━━━━━━━━━━━━━━━━━━━━━━━━━━━━━━━\u001b[0m \u001b[32m8.0/8.0 MB\u001b[0m \u001b[31m13.2 MB/s\u001b[0m eta \u001b[36m0:00:00\u001b[0mm eta \u001b[36m0:00:01\u001b[0m0:01\u001b[0m01\u001b[0m\n",
      "\u001b[?25hCollecting torch-sparse\n",
      "  Downloading https://data.pyg.org/whl/torch-1.12.0%2Bcu102/torch_sparse-0.6.15-cp39-cp39-linux_x86_64.whl (2.9 MB)\n",
      "\u001b[2K     \u001b[38;2;114;156;31m━━━━━━━━━━━━━━━━━━━━━━━━━━━━━━━━━━━━━━━━\u001b[0m \u001b[32m2.9/2.9 MB\u001b[0m \u001b[31m16.9 MB/s\u001b[0m eta \u001b[36m0:00:00\u001b[0m31m27.5 MB/s\u001b[0m eta \u001b[36m0:00:01\u001b[0m\n",
      "\u001b[?25hCollecting torch-cluster\n",
      "  Downloading https://data.pyg.org/whl/torch-1.12.0%2Bcu102/torch_cluster-1.6.0-cp39-cp39-linux_x86_64.whl (1.4 MB)\n",
      "\u001b[2K     \u001b[38;2;114;156;31m━━━━━━━━━━━━━━━━━━━━━━━━━━━━━━━━━━━━━━━━\u001b[0m \u001b[32m1.4/1.4 MB\u001b[0m \u001b[31m61.3 MB/s\u001b[0m eta \u001b[36m0:00:00\u001b[0m\n",
      "\u001b[?25hCollecting torch-spline-conv\n",
      "  Downloading https://data.pyg.org/whl/torch-1.12.0%2Bcu102/torch_spline_conv-1.2.1-cp39-cp39-linux_x86_64.whl (633 kB)\n",
      "\u001b[2K     \u001b[38;2;114;156;31m━━━━━━━━━━━━━━━━━━━━━━━━━━━━━━━━━━━━━━\u001b[0m \u001b[32m633.2/633.2 kB\u001b[0m \u001b[31m40.6 MB/s\u001b[0m eta \u001b[36m0:00:00\u001b[0m\n",
      "\u001b[?25hCollecting torch-geometric\n",
      "  Using cached torch_geometric-2.1.0.post1-py3-none-any.whl\n",
      "Collecting scipy\n",
      "  Using cached scipy-1.9.2-cp39-cp39-manylinux_2_17_x86_64.manylinux2014_x86_64.whl (33.8 MB)\n",
      "Collecting scikit-learn\n",
      "  Using cached scikit_learn-1.1.2-cp39-cp39-manylinux_2_17_x86_64.manylinux2014_x86_64.whl (30.8 MB)\n",
      "Requirement already satisfied: tqdm in /home/emre/anaconda3/envs/emre_venv/lib/python3.9/site-packages (from torch-geometric) (4.64.1)\n",
      "Requirement already satisfied: pyparsing in /home/emre/anaconda3/envs/emre_venv/lib/python3.9/site-packages (from torch-geometric) (3.0.9)\n",
      "Requirement already satisfied: numpy in /home/emre/anaconda3/envs/emre_venv/lib/python3.9/site-packages (from torch-geometric) (1.23.3)\n",
      "Requirement already satisfied: requests in /home/emre/anaconda3/envs/emre_venv/lib/python3.9/site-packages (from torch-geometric) (2.28.1)\n",
      "Requirement already satisfied: jinja2 in /home/emre/anaconda3/envs/emre_venv/lib/python3.9/site-packages (from torch-geometric) (3.0.3)\n",
      "Requirement already satisfied: MarkupSafe>=2.0 in /home/emre/anaconda3/envs/emre_venv/lib/python3.9/site-packages (from jinja2->torch-geometric) (2.1.1)\n",
      "Requirement already satisfied: urllib3<1.27,>=1.21.1 in /home/emre/anaconda3/envs/emre_venv/lib/python3.9/site-packages (from requests->torch-geometric) (1.26.12)\n",
      "Requirement already satisfied: charset-normalizer<3,>=2 in /home/emre/anaconda3/envs/emre_venv/lib/python3.9/site-packages (from requests->torch-geometric) (2.1.1)\n",
      "Requirement already satisfied: certifi>=2017.4.17 in /home/emre/anaconda3/envs/emre_venv/lib/python3.9/site-packages (from requests->torch-geometric) (2022.9.24)\n",
      "Requirement already satisfied: idna<4,>=2.5 in /home/emre/anaconda3/envs/emre_venv/lib/python3.9/site-packages (from requests->torch-geometric) (3.4)\n",
      "Collecting joblib>=1.0.0\n",
      "  Using cached joblib-1.2.0-py3-none-any.whl (297 kB)\n",
      "Collecting threadpoolctl>=2.0.0\n",
      "  Using cached threadpoolctl-3.1.0-py3-none-any.whl (14 kB)\n",
      "Installing collected packages: torch-spline-conv, torch-scatter, torch-cluster, threadpoolctl, scipy, joblib, torch-sparse, scikit-learn, torch-geometric\n",
      "Successfully installed joblib-1.2.0 scikit-learn-1.1.2 scipy-1.9.2 threadpoolctl-3.1.0 torch-cluster-1.6.0 torch-geometric-2.1.0.post1 torch-scatter-2.0.9 torch-sparse-0.6.15 torch-spline-conv-1.2.1\n"
     ]
    }
   ],
   "source": [
    "!pip install torch-scatter torch-sparse torch-cluster torch-spline-conv torch-geometric -f https://data.pyg.org/whl/torch-1.12.0+cu102.html\n",
    "# !pip install torch-scatter torch-sparse torch-cluster torch-spline-conv torch-geometric -f https://data.pyg.org/whl/torch-1.7.1+cu92.html    \n",
    "# !pip install torch-scatter torch-sparse torch-cluster torch-spline-conv torch-geometric -f https://data.pyg.org/whl/torch-1.9.0+cu111.html    "
   ]
  },
  {
   "cell_type": "code",
   "execution_count": 1,
   "id": "61d6d1b6",
   "metadata": {
    "scrolled": false
   },
   "outputs": [
    {
     "name": "stdout",
     "output_type": "stream",
     "text": [
      "1.12.0+cu102\n",
      "True\n",
      "10.2\n",
      "Location: /home/emre/anaconda3/envs/emre_venv/lib/python3.9/site-packages/torch/__init__.py\n"
     ]
    },
    {
     "name": "stderr",
     "output_type": "stream",
     "text": [
      "/home/emre/anaconda3/envs/emre_venv/lib/python3.9/site-packages/tqdm/auto.py:22: TqdmWarning: IProgress not found. Please update jupyter and ipywidgets. See https://ipywidgets.readthedocs.io/en/stable/user_install.html\n",
      "  from .autonotebook import tqdm as notebook_tqdm\n"
     ]
    }
   ],
   "source": [
    "import torch\n",
    "print(torch.__version__)\n",
    "print(torch.cuda.is_available())\n",
    "print(torch.version.cuda)\n",
    "print('Location:', torch.__file__) # /home/emre/.local/lib/python3.7/site-packages"
   ]
  },
  {
   "cell_type": "code",
   "execution_count": 2,
   "id": "e0922e37",
   "metadata": {},
   "outputs": [],
   "source": [
    "# !python3.7 -m pip uninstall numpy -y\n",
    "# !pip uninstall numpy -y"
   ]
  },
  {
   "cell_type": "code",
   "execution_count": 3,
   "id": "694042a0",
   "metadata": {},
   "outputs": [],
   "source": [
    "# !python3.7 -m pip install numpy\n",
    "# !python3.7 -m pip install --force-reinstall numpy"
   ]
  },
  {
   "cell_type": "code",
   "execution_count": 4,
   "id": "23612b56",
   "metadata": {},
   "outputs": [],
   "source": [
    "# !pip install numpy"
   ]
  },
  {
   "cell_type": "code",
   "execution_count": 5,
   "id": "07980da7",
   "metadata": {
    "scrolled": false
   },
   "outputs": [],
   "source": [
    "# !python3.7 -m pip install theano\n",
    "# !python3.7 -m pip install --user theano"
   ]
  },
  {
   "cell_type": "code",
   "execution_count": 6,
   "id": "a4b0b5a8",
   "metadata": {},
   "outputs": [],
   "source": [
    "from typing import Union, Tuple\n",
    "from torch_geometric.typing import OptPairTensor, Adj, Size # Optional[Tensor], Union[Tensor, SparseTensor], Optional[Tuple[int, int]], all about data type\n",
    "\n",
    "from torch import Tensor\n",
    "from torch.nn import Linear\n",
    "import torch.nn.functional as F\n",
    "from torch_sparse import SparseTensor, matmul\n",
    "from torch_geometric.nn.conv import MessagePassing"
   ]
  },
  {
   "cell_type": "code",
   "execution_count": 8,
   "id": "424ad1ef",
   "metadata": {},
   "outputs": [],
   "source": [
    "import warnings\n",
    "warnings.filterwarnings(\"ignore\")\n",
    "from joblib import Parallel, delayed\n",
    "\n",
    "from sklearn.preprocessing import StandardScaler, MinMaxScaler\n",
    "\n",
    "import torch\n",
    "import torch.nn.functional as F\n",
    "import torch_geometric.nn as gnn\n",
    "from torch_geometric.nn import MessagePassing\n",
    "from torch_geometric.data import Dataset, Data, DataLoader\n",
    "from torch_geometric.nn import global_mean_pool as gap, global_max_pool as gmp\n",
    "from torch_geometric.utils import softmax"
   ]
  },
  {
   "cell_type": "code",
   "execution_count": null,
   "id": "641e6ee0",
   "metadata": {},
   "outputs": [],
   "source": []
  },
  {
   "cell_type": "code",
   "execution_count": null,
   "id": "8afd38a8",
   "metadata": {},
   "outputs": [],
   "source": []
  },
  {
   "cell_type": "code",
   "execution_count": null,
   "id": "ea090664",
   "metadata": {},
   "outputs": [],
   "source": []
  },
  {
   "cell_type": "code",
   "execution_count": null,
   "id": "11bb87fa",
   "metadata": {},
   "outputs": [],
   "source": []
  },
  {
   "cell_type": "code",
   "execution_count": null,
   "id": "682b64f3",
   "metadata": {},
   "outputs": [],
   "source": []
  },
  {
   "cell_type": "code",
   "execution_count": null,
   "id": "fd95b01b",
   "metadata": {},
   "outputs": [],
   "source": []
  },
  {
   "cell_type": "code",
   "execution_count": null,
   "id": "d4312592",
   "metadata": {},
   "outputs": [],
   "source": []
  },
  {
   "cell_type": "code",
   "execution_count": null,
   "id": "a80216ed",
   "metadata": {},
   "outputs": [],
   "source": []
  },
  {
   "cell_type": "code",
   "execution_count": null,
   "id": "2507d57c",
   "metadata": {},
   "outputs": [],
   "source": []
  },
  {
   "cell_type": "code",
   "execution_count": null,
   "id": "d47802a9",
   "metadata": {},
   "outputs": [],
   "source": []
  },
  {
   "cell_type": "code",
   "execution_count": null,
   "id": "41927183",
   "metadata": {},
   "outputs": [],
   "source": []
  },
  {
   "cell_type": "code",
   "execution_count": null,
   "id": "9a410549",
   "metadata": {},
   "outputs": [],
   "source": []
  }
 ],
 "metadata": {
  "kernelspec": {
   "display_name": "Python 3",
   "language": "python",
   "name": "python3"
  },
  "language_info": {
   "codemirror_mode": {
    "name": "ipython",
    "version": 3
   },
   "file_extension": ".py",
   "mimetype": "text/x-python",
   "name": "python",
   "nbconvert_exporter": "python",
   "pygments_lexer": "ipython3",
   "version": "3.9.13"
  }
 },
 "nbformat": 4,
 "nbformat_minor": 5
}
